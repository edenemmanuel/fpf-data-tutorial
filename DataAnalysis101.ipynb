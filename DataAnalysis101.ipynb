{
 "cells": [
  {
   "cell_type": "markdown",
   "metadata": {
    "slideshow": {
     "slide_type": "slide"
    }
   },
   "source": [
    "# Basic Data Analysis in Python Notebooks\n",
    "\n",
    "### Feb 14, 2018 - redshiftzero"
   ]
  },
  {
   "cell_type": "markdown",
   "metadata": {
    "slideshow": {
     "slide_type": "slide"
    }
   },
   "source": [
    "## Why Jupyter Notebooks?\n",
    "\n",
    "* `Jupyter` is the project that creates the Python Notebook\n",
    "* Notebooks are a simple way to save and share code, descriptive text, plots/diagrams, and mathematical equations \n",
    "* The notebook viewer/editor runs in a browser and connects to an `IPython kernel` which executes the code"
   ]
  },
  {
   "cell_type": "markdown",
   "metadata": {
    "slideshow": {
     "slide_type": "slide"
    }
   },
   "source": [
    "# Getting started\n",
    "\n",
    "Simply navigate to the folder you want to work in and:\n",
    "\n",
    "```\n",
    "$ jupyter notebook\n",
    "```"
   ]
  },
  {
   "cell_type": "markdown",
   "metadata": {
    "slideshow": {
     "slide_type": "slide"
    }
   },
   "source": [
    "### Cell Types: Markdown"
   ]
  },
  {
   "cell_type": "markdown",
   "metadata": {
    "slideshow": {
     "slide_type": "fragment"
    }
   },
   "source": [
    "A Markdown cell can contain any Markdown formatted text (e.g. *italics* **bold** ~~strikethrough~~)\n",
    "\n",
    "As well as equations formatted using $\\LaTeX$:\n",
    "\n",
    "$G_{\\mu \\nu} + \\Lambda g_{\\mu \\nu} = 8 \\pi T_{\\mu \\nu}$"
   ]
  },
  {
   "cell_type": "markdown",
   "metadata": {
    "slideshow": {
     "slide_type": "slide"
    }
   },
   "source": [
    "## Cell Types: Code\n",
    "\n",
    "You can run code - both Python and shell - via the IPython interpreter:"
   ]
  },
  {
   "cell_type": "code",
   "execution_count": 1,
   "metadata": {
    "slideshow": {
     "slide_type": "fragment"
    }
   },
   "outputs": [
    {
     "name": "stdout",
     "output_type": "stream",
     "text": [
      "teehee\n"
     ]
    }
   ],
   "source": [
    "print(\"teehee\")"
   ]
  },
  {
   "cell_type": "code",
   "execution_count": 2,
   "metadata": {
    "slideshow": {
     "slide_type": "fragment"
    }
   },
   "outputs": [
    {
     "data": {
      "text/plain": [
       "'/Users/redshiftzero/Documents/Github/fpf-data-tutorial'"
      ]
     },
     "execution_count": 2,
     "metadata": {},
     "output_type": "execute_result"
    }
   ],
   "source": [
    "pwd"
   ]
  },
  {
   "cell_type": "markdown",
   "metadata": {
    "slideshow": {
     "slide_type": "slide"
    }
   },
   "source": [
    "## `IPython` has lots of magic spells you can cast"
   ]
  },
  {
   "cell_type": "code",
   "execution_count": 3,
   "metadata": {
    "slideshow": {
     "slide_type": "subslide"
    }
   },
   "outputs": [],
   "source": [
    "%magic"
   ]
  },
  {
   "cell_type": "markdown",
   "metadata": {
    "slideshow": {
     "slide_type": "slide"
    }
   },
   "source": [
    "# Using `ipdb` for debugging"
   ]
  },
  {
   "cell_type": "code",
   "execution_count": 4,
   "metadata": {
    "slideshow": {
     "slide_type": "fragment"
    }
   },
   "outputs": [
    {
     "name": "stdout",
     "output_type": "stream",
     "text": [
      "Automatic pdb calling has been turned ON\n"
     ]
    }
   ],
   "source": [
    "%pdb on"
   ]
  },
  {
   "cell_type": "markdown",
   "metadata": {
    "slideshow": {
     "slide_type": "fragment"
    }
   },
   "source": [
    "![images/ipdb.png](images/ipdb.png)"
   ]
  },
  {
   "cell_type": "markdown",
   "metadata": {
    "slideshow": {
     "slide_type": "slide"
    }
   },
   "source": [
    "## Useful libraries for data analysis and visualization in Python"
   ]
  },
  {
   "cell_type": "markdown",
   "metadata": {
    "slideshow": {
     "slide_type": "subslide"
    }
   },
   "source": [
    "### `numpy` - Numerical Python"
   ]
  },
  {
   "cell_type": "code",
   "execution_count": 5,
   "metadata": {
    "slideshow": {
     "slide_type": "fragment"
    }
   },
   "outputs": [],
   "source": [
    "import numpy as np"
   ]
  },
  {
   "cell_type": "markdown",
   "metadata": {
    "slideshow": {
     "slide_type": "fragment"
    }
   },
   "source": [
    "* Enables fast and efficient array operations\n",
    "* Primary object is the `ndarray` (n-dimensional array)"
   ]
  },
  {
   "cell_type": "markdown",
   "metadata": {
    "slideshow": {
     "slide_type": "subslide"
    }
   },
   "source": [
    "### `matplotlib`\n",
    "\n",
    "* A very powerful plotting libary for Python"
   ]
  },
  {
   "cell_type": "code",
   "execution_count": 6,
   "metadata": {
    "slideshow": {
     "slide_type": "fragment"
    }
   },
   "outputs": [],
   "source": [
    "import matplotlib.pyplot as plt"
   ]
  },
  {
   "cell_type": "markdown",
   "metadata": {
    "slideshow": {
     "slide_type": "subslide"
    }
   },
   "source": [
    "### `pandas`\n",
    "\n",
    "* A library intended to make data analysis fast and easy\n",
    "* Primary data structures:\n",
    "\n",
    "  * `pd.Series`: a 1D labeled, indexed array containing any datatype\n",
    "  * `pd.DataFrame`: a 2D labeled, indexed array containing series of different datatypes"
   ]
  },
  {
   "cell_type": "code",
   "execution_count": 7,
   "metadata": {
    "slideshow": {
     "slide_type": "fragment"
    }
   },
   "outputs": [],
   "source": [
    "import pandas as pd"
   ]
  },
  {
   "cell_type": "markdown",
   "metadata": {
    "slideshow": {
     "slide_type": "slide"
    }
   },
   "source": [
    "## Data Analysis with Pandas\n",
    "\n",
    "We'll use a simple dataset to get familiar with pandas\n",
    "\n",
    "![images/iris.jpg](images/iris.jpg)\n",
    "\n",
    "Iris dataset: Measurements and species of 150 different flowers. \n",
    "\n",
    "Data and image from UCI Machine Learning Repository: https://archive.ics.uci.edu/ml/datasets/Iris"
   ]
  },
  {
   "cell_type": "code",
   "execution_count": 8,
   "metadata": {
    "slideshow": {
     "slide_type": "subslide"
    }
   },
   "outputs": [],
   "source": [
    "data_url = 'https://archive.ics.uci.edu/ml/machine-learning-databases/iris/iris.data'"
   ]
  },
  {
   "cell_type": "code",
   "execution_count": 9,
   "metadata": {
    "slideshow": {
     "slide_type": "fragment"
    }
   },
   "outputs": [],
   "source": [
    "headers = [\"sepal length in cm\", \n",
    "           \"sepal width in cm\", \n",
    "           \"petal length in cm\", \n",
    "           \"petal width in cm\", \n",
    "           \"class\"]"
   ]
  },
  {
   "cell_type": "code",
   "execution_count": 10,
   "metadata": {
    "slideshow": {
     "slide_type": "fragment"
    }
   },
   "outputs": [],
   "source": [
    "df = pd.read_csv(data_url, \n",
    "                 header=None,  # Else pandas assumes the first row is the header\n",
    "                 names=headers)  # Pass it the headers we wrote down"
   ]
  },
  {
   "cell_type": "markdown",
   "metadata": {
    "slideshow": {
     "slide_type": "fragment"
    }
   },
   "source": [
    "* The `read_csv` function assumes the delimiter is a comma, but you can specify it with the keyword arg `sep` (e.g. `sep='\\t'`)"
   ]
  },
  {
   "cell_type": "code",
   "execution_count": 11,
   "metadata": {
    "slideshow": {
     "slide_type": "subslide"
    }
   },
   "outputs": [
    {
     "data": {
      "text/html": [
       "<div>\n",
       "<style scoped>\n",
       "    .dataframe tbody tr th:only-of-type {\n",
       "        vertical-align: middle;\n",
       "    }\n",
       "\n",
       "    .dataframe tbody tr th {\n",
       "        vertical-align: top;\n",
       "    }\n",
       "\n",
       "    .dataframe thead th {\n",
       "        text-align: right;\n",
       "    }\n",
       "</style>\n",
       "<table border=\"1\" class=\"dataframe\">\n",
       "  <thead>\n",
       "    <tr style=\"text-align: right;\">\n",
       "      <th></th>\n",
       "      <th>sepal length in cm</th>\n",
       "      <th>sepal width in cm</th>\n",
       "      <th>petal length in cm</th>\n",
       "      <th>petal width in cm</th>\n",
       "      <th>class</th>\n",
       "    </tr>\n",
       "  </thead>\n",
       "  <tbody>\n",
       "    <tr>\n",
       "      <th>0</th>\n",
       "      <td>5.1</td>\n",
       "      <td>3.5</td>\n",
       "      <td>1.4</td>\n",
       "      <td>0.2</td>\n",
       "      <td>Iris-setosa</td>\n",
       "    </tr>\n",
       "    <tr>\n",
       "      <th>1</th>\n",
       "      <td>4.9</td>\n",
       "      <td>3.0</td>\n",
       "      <td>1.4</td>\n",
       "      <td>0.2</td>\n",
       "      <td>Iris-setosa</td>\n",
       "    </tr>\n",
       "    <tr>\n",
       "      <th>2</th>\n",
       "      <td>4.7</td>\n",
       "      <td>3.2</td>\n",
       "      <td>1.3</td>\n",
       "      <td>0.2</td>\n",
       "      <td>Iris-setosa</td>\n",
       "    </tr>\n",
       "    <tr>\n",
       "      <th>3</th>\n",
       "      <td>4.6</td>\n",
       "      <td>3.1</td>\n",
       "      <td>1.5</td>\n",
       "      <td>0.2</td>\n",
       "      <td>Iris-setosa</td>\n",
       "    </tr>\n",
       "    <tr>\n",
       "      <th>4</th>\n",
       "      <td>5.0</td>\n",
       "      <td>3.6</td>\n",
       "      <td>1.4</td>\n",
       "      <td>0.2</td>\n",
       "      <td>Iris-setosa</td>\n",
       "    </tr>\n",
       "  </tbody>\n",
       "</table>\n",
       "</div>"
      ],
      "text/plain": [
       "   sepal length in cm  sepal width in cm  petal length in cm  \\\n",
       "0                 5.1                3.5                 1.4   \n",
       "1                 4.9                3.0                 1.4   \n",
       "2                 4.7                3.2                 1.3   \n",
       "3                 4.6                3.1                 1.5   \n",
       "4                 5.0                3.6                 1.4   \n",
       "\n",
       "   petal width in cm        class  \n",
       "0                0.2  Iris-setosa  \n",
       "1                0.2  Iris-setosa  \n",
       "2                0.2  Iris-setosa  \n",
       "3                0.2  Iris-setosa  \n",
       "4                0.2  Iris-setosa  "
      ]
     },
     "execution_count": 11,
     "metadata": {},
     "output_type": "execute_result"
    }
   ],
   "source": [
    "df.head()"
   ]
  },
  {
   "cell_type": "markdown",
   "metadata": {
    "slideshow": {
     "slide_type": "subslide"
    }
   },
   "source": [
    "###  Access a single column\n",
    "\n",
    "`$ df['class']`\n",
    "\n",
    "### Access a single row"
   ]
  },
  {
   "cell_type": "code",
   "execution_count": 12,
   "metadata": {
    "slideshow": {
     "slide_type": "fragment"
    }
   },
   "outputs": [
    {
     "data": {
      "text/plain": [
       "sepal length in cm            5.1\n",
       "sepal width in cm             3.5\n",
       "petal length in cm            1.4\n",
       "petal width in cm             0.2\n",
       "class                 Iris-setosa\n",
       "Name: 0, dtype: object"
      ]
     },
     "execution_count": 12,
     "metadata": {},
     "output_type": "execute_result"
    }
   ],
   "source": [
    "df.iloc[0]  # iloc = access by Integer Location"
   ]
  },
  {
   "cell_type": "markdown",
   "metadata": {
    "slideshow": {
     "slide_type": "subslide"
    }
   },
   "source": [
    "### Select rows by boolean vector"
   ]
  },
  {
   "cell_type": "code",
   "execution_count": 13,
   "metadata": {
    "slideshow": {
     "slide_type": "fragment"
    }
   },
   "outputs": [],
   "source": [
    "is_setosa = df['class'] == 'Iris-setosa'"
   ]
  },
  {
   "cell_type": "code",
   "execution_count": 14,
   "metadata": {
    "slideshow": {
     "slide_type": "fragment"
    }
   },
   "outputs": [
    {
     "data": {
      "text/plain": [
       "0    True\n",
       "1    True\n",
       "2    True\n",
       "3    True\n",
       "4    True\n",
       "Name: class, dtype: bool"
      ]
     },
     "execution_count": 14,
     "metadata": {},
     "output_type": "execute_result"
    }
   ],
   "source": [
    "is_setosa.head()"
   ]
  },
  {
   "cell_type": "code",
   "execution_count": 15,
   "metadata": {
    "slideshow": {
     "slide_type": "fragment"
    }
   },
   "outputs": [
    {
     "data": {
      "text/plain": [
       "Iris-setosa    50\n",
       "Name: class, dtype: int64"
      ]
     },
     "execution_count": 15,
     "metadata": {},
     "output_type": "execute_result"
    }
   ],
   "source": [
    "df[is_setosa]['class'].value_counts()"
   ]
  },
  {
   "cell_type": "code",
   "execution_count": 16,
   "metadata": {
    "slideshow": {
     "slide_type": "subslide"
    }
   },
   "outputs": [
    {
     "name": "stdout",
     "output_type": "stream",
     "text": [
      "<class 'pandas.core.frame.DataFrame'>\n",
      "RangeIndex: 150 entries, 0 to 149\n",
      "Data columns (total 5 columns):\n",
      "sepal length in cm    150 non-null float64\n",
      "sepal width in cm     150 non-null float64\n",
      "petal length in cm    150 non-null float64\n",
      "petal width in cm     150 non-null float64\n",
      "class                 150 non-null object\n",
      "dtypes: float64(4), object(1)\n",
      "memory usage: 5.9+ KB\n"
     ]
    }
   ],
   "source": [
    "df.info()"
   ]
  },
  {
   "cell_type": "code",
   "execution_count": 17,
   "metadata": {
    "slideshow": {
     "slide_type": "subslide"
    }
   },
   "outputs": [
    {
     "data": {
      "text/html": [
       "<div>\n",
       "<style scoped>\n",
       "    .dataframe tbody tr th:only-of-type {\n",
       "        vertical-align: middle;\n",
       "    }\n",
       "\n",
       "    .dataframe tbody tr th {\n",
       "        vertical-align: top;\n",
       "    }\n",
       "\n",
       "    .dataframe thead th {\n",
       "        text-align: right;\n",
       "    }\n",
       "</style>\n",
       "<table border=\"1\" class=\"dataframe\">\n",
       "  <thead>\n",
       "    <tr style=\"text-align: right;\">\n",
       "      <th></th>\n",
       "      <th>sepal length in cm</th>\n",
       "      <th>sepal width in cm</th>\n",
       "      <th>petal length in cm</th>\n",
       "      <th>petal width in cm</th>\n",
       "    </tr>\n",
       "  </thead>\n",
       "  <tbody>\n",
       "    <tr>\n",
       "      <th>count</th>\n",
       "      <td>150.000000</td>\n",
       "      <td>150.000000</td>\n",
       "      <td>150.000000</td>\n",
       "      <td>150.000000</td>\n",
       "    </tr>\n",
       "    <tr>\n",
       "      <th>mean</th>\n",
       "      <td>5.843333</td>\n",
       "      <td>3.054000</td>\n",
       "      <td>3.758667</td>\n",
       "      <td>1.198667</td>\n",
       "    </tr>\n",
       "    <tr>\n",
       "      <th>std</th>\n",
       "      <td>0.828066</td>\n",
       "      <td>0.433594</td>\n",
       "      <td>1.764420</td>\n",
       "      <td>0.763161</td>\n",
       "    </tr>\n",
       "    <tr>\n",
       "      <th>min</th>\n",
       "      <td>4.300000</td>\n",
       "      <td>2.000000</td>\n",
       "      <td>1.000000</td>\n",
       "      <td>0.100000</td>\n",
       "    </tr>\n",
       "    <tr>\n",
       "      <th>25%</th>\n",
       "      <td>5.100000</td>\n",
       "      <td>2.800000</td>\n",
       "      <td>1.600000</td>\n",
       "      <td>0.300000</td>\n",
       "    </tr>\n",
       "    <tr>\n",
       "      <th>50%</th>\n",
       "      <td>5.800000</td>\n",
       "      <td>3.000000</td>\n",
       "      <td>4.350000</td>\n",
       "      <td>1.300000</td>\n",
       "    </tr>\n",
       "    <tr>\n",
       "      <th>75%</th>\n",
       "      <td>6.400000</td>\n",
       "      <td>3.300000</td>\n",
       "      <td>5.100000</td>\n",
       "      <td>1.800000</td>\n",
       "    </tr>\n",
       "    <tr>\n",
       "      <th>max</th>\n",
       "      <td>7.900000</td>\n",
       "      <td>4.400000</td>\n",
       "      <td>6.900000</td>\n",
       "      <td>2.500000</td>\n",
       "    </tr>\n",
       "  </tbody>\n",
       "</table>\n",
       "</div>"
      ],
      "text/plain": [
       "       sepal length in cm  sepal width in cm  petal length in cm  \\\n",
       "count          150.000000         150.000000          150.000000   \n",
       "mean             5.843333           3.054000            3.758667   \n",
       "std              0.828066           0.433594            1.764420   \n",
       "min              4.300000           2.000000            1.000000   \n",
       "25%              5.100000           2.800000            1.600000   \n",
       "50%              5.800000           3.000000            4.350000   \n",
       "75%              6.400000           3.300000            5.100000   \n",
       "max              7.900000           4.400000            6.900000   \n",
       "\n",
       "       petal width in cm  \n",
       "count         150.000000  \n",
       "mean            1.198667  \n",
       "std             0.763161  \n",
       "min             0.100000  \n",
       "25%             0.300000  \n",
       "50%             1.300000  \n",
       "75%             1.800000  \n",
       "max             2.500000  "
      ]
     },
     "execution_count": 17,
     "metadata": {},
     "output_type": "execute_result"
    }
   ],
   "source": [
    "df.describe()"
   ]
  },
  {
   "cell_type": "markdown",
   "metadata": {
    "slideshow": {
     "slide_type": "slide"
    }
   },
   "source": [
    "## Writing out a new dataset"
   ]
  },
  {
   "cell_type": "code",
   "execution_count": 18,
   "metadata": {
    "slideshow": {
     "slide_type": "fragment"
    }
   },
   "outputs": [],
   "source": [
    "df[['petal length in cm', 'petal width in cm', 'class']].to_csv('petal_lengths.csv')"
   ]
  },
  {
   "cell_type": "markdown",
   "metadata": {
    "slideshow": {
     "slide_type": "slide"
    }
   },
   "source": [
    "## Plotting inline in the notebook\n",
    "\n",
    "You have to set the `matplotlib` backend to be the notebook using:"
   ]
  },
  {
   "cell_type": "code",
   "execution_count": 19,
   "metadata": {
    "slideshow": {
     "slide_type": "fragment"
    }
   },
   "outputs": [],
   "source": [
    "%matplotlib inline"
   ]
  },
  {
   "cell_type": "code",
   "execution_count": 20,
   "metadata": {
    "slideshow": {
     "slide_type": "fragment"
    }
   },
   "outputs": [],
   "source": [
    "import matplotlib\n",
    "matplotlib.style.use('fivethirtyeight')"
   ]
  },
  {
   "cell_type": "markdown",
   "metadata": {
    "slideshow": {
     "slide_type": "slide"
    }
   },
   "source": [
    "## Plotting a column using `matplotlib` and `pandas`\n",
    "\n",
    "Just use the `.plot()` method on the column (specifying plot options as optional keyword arguments)"
   ]
  },
  {
   "cell_type": "code",
   "execution_count": 21,
   "metadata": {
    "slideshow": {
     "slide_type": "fragment"
    }
   },
   "outputs": [
    {
     "data": {
      "text/plain": [
       "<matplotlib.axes._subplots.AxesSubplot at 0x10cabe7b8>"
      ]
     },
     "execution_count": 21,
     "metadata": {},
     "output_type": "execute_result"
    },
    {
     "data": {
      "image/png": "[encoded data removed]",
      "text/plain": [
       "<matplotlib.figure.Figure at 0x10ca9dfd0>"
      ]
     },
     "metadata": {},
     "output_type": "display_data"
    }
   ],
   "source": [
    "df['petal length in cm'].plot(kind='hist')"
   ]
  },
  {
   "cell_type": "code",
   "execution_count": 22,
   "metadata": {
    "slideshow": {
     "slide_type": "subslide"
    }
   },
   "outputs": [
    {
     "data": {
      "text/plain": [
       "array([[<matplotlib.axes._subplots.AxesSubplot object at 0x10c9e8860>,\n",
       "        <matplotlib.axes._subplots.AxesSubplot object at 0x10cbcd240>],\n",
       "       [<matplotlib.axes._subplots.AxesSubplot object at 0x10e0a87b8>,\n",
       "        <matplotlib.axes._subplots.AxesSubplot object at 0x10e0e7320>]],\n",
       "      dtype=object)"
      ]
     },
     "execution_count": 22,
     "metadata": {},
     "output_type": "execute_result"
    },
    {
     "data": {
      "image/png": "[encoded data removed]",
      "text/plain": [
       "<matplotlib.figure.Figure at 0x10cafe5f8>"
      ]
     },
     "metadata": {},
     "output_type": "display_data"
    }
   ],
   "source": [
    "df.hist(bins=20, figsize=(15,8))"
   ]
  },
  {
   "cell_type": "markdown",
   "metadata": {
    "slideshow": {
     "slide_type": "slide"
    }
   },
   "source": [
    "# `seaborn`\n",
    "\n",
    "You can make some really elegant plots with `seaborn`, which is a wrapper around `matplotlib`"
   ]
  },
  {
   "cell_type": "code",
   "execution_count": 23,
   "metadata": {
    "slideshow": {
     "slide_type": "fragment"
    }
   },
   "outputs": [],
   "source": [
    "import seaborn as sns"
   ]
  },
  {
   "cell_type": "code",
   "execution_count": 24,
   "metadata": {
    "slideshow": {
     "slide_type": "subslide"
    }
   },
   "outputs": [],
   "source": [
    "df_melted = pd.melt(df, \"class\", var_name=\"feature\")"
   ]
  },
  {
   "cell_type": "code",
   "execution_count": 25,
   "metadata": {
    "slideshow": {
     "slide_type": "fragment"
    }
   },
   "outputs": [
    {
     "data": {
      "text/html": [
       "<div>\n",
       "<style scoped>\n",
       "    .dataframe tbody tr th:only-of-type {\n",
       "        vertical-align: middle;\n",
       "    }\n",
       "\n",
       "    .dataframe tbody tr th {\n",
       "        vertical-align: top;\n",
       "    }\n",
       "\n",
       "    .dataframe thead th {\n",
       "        text-align: right;\n",
       "    }\n",
       "</style>\n",
       "<table border=\"1\" class=\"dataframe\">\n",
       "  <thead>\n",
       "    <tr style=\"text-align: right;\">\n",
       "      <th></th>\n",
       "      <th>class</th>\n",
       "      <th>feature</th>\n",
       "      <th>value</th>\n",
       "    </tr>\n",
       "  </thead>\n",
       "  <tbody>\n",
       "    <tr>\n",
       "      <th>0</th>\n",
       "      <td>Iris-setosa</td>\n",
       "      <td>sepal length in cm</td>\n",
       "      <td>5.1</td>\n",
       "    </tr>\n",
       "    <tr>\n",
       "      <th>1</th>\n",
       "      <td>Iris-setosa</td>\n",
       "      <td>sepal length in cm</td>\n",
       "      <td>4.9</td>\n",
       "    </tr>\n",
       "    <tr>\n",
       "      <th>2</th>\n",
       "      <td>Iris-setosa</td>\n",
       "      <td>sepal length in cm</td>\n",
       "      <td>4.7</td>\n",
       "    </tr>\n",
       "    <tr>\n",
       "      <th>3</th>\n",
       "      <td>Iris-setosa</td>\n",
       "      <td>sepal length in cm</td>\n",
       "      <td>4.6</td>\n",
       "    </tr>\n",
       "    <tr>\n",
       "      <th>4</th>\n",
       "      <td>Iris-setosa</td>\n",
       "      <td>sepal length in cm</td>\n",
       "      <td>5.0</td>\n",
       "    </tr>\n",
       "  </tbody>\n",
       "</table>\n",
       "</div>"
      ],
      "text/plain": [
       "         class             feature  value\n",
       "0  Iris-setosa  sepal length in cm    5.1\n",
       "1  Iris-setosa  sepal length in cm    4.9\n",
       "2  Iris-setosa  sepal length in cm    4.7\n",
       "3  Iris-setosa  sepal length in cm    4.6\n",
       "4  Iris-setosa  sepal length in cm    5.0"
      ]
     },
     "execution_count": 25,
     "metadata": {},
     "output_type": "execute_result"
    }
   ],
   "source": [
    "df_melted.head()"
   ]
  },
  {
   "cell_type": "code",
   "execution_count": 26,
   "metadata": {
    "slideshow": {
     "slide_type": "subslide"
    }
   },
   "outputs": [
    {
     "data": {
      "text/plain": [
       "<matplotlib.axes._subplots.AxesSubplot at 0x11057ce48>"
      ]
     },
     "execution_count": 26,
     "metadata": {},
     "output_type": "execute_result"
    },
    {
     "data": {
      "image/png": "[encoded data removed]",
      "text/plain": [
       "<matplotlib.figure.Figure at 0x10cb57908>"
      ]
     },
     "metadata": {},
     "output_type": "display_data"
    }
   ],
   "source": [
    "sns.set(style=\"white\", rc={\"figure.figsize\": (15, 10)}, font_scale=2)\n",
    "sns.swarmplot(x=\"feature\", y=\"value\", hue=\"class\", data=df_melted)"
   ]
  },
  {
   "cell_type": "markdown",
   "metadata": {
    "slideshow": {
     "slide_type": "slide"
    }
   },
   "source": [
    "## securethe.news\n",
    "\n",
    "Let's use these libraries to visualize the data that securethe.news has been collecting.\n",
    "\n",
    "### Using the API\n",
    "\n",
    "STN has a simple API we can query to grab the scan data: https://securethe.news/api/v1/sites/"
   ]
  },
  {
   "cell_type": "code",
   "execution_count": 27,
   "metadata": {
    "slideshow": {
     "slide_type": "fragment"
    }
   },
   "outputs": [],
   "source": [
    "import json, requests\n",
    "\n",
    "r = requests.get('https://securethe.news/api/v1/sites/?limit=1000')\n",
    "df = pd.read_json(r.text)"
   ]
  },
  {
   "cell_type": "markdown",
   "metadata": {
    "slideshow": {
     "slide_type": "subslide"
    }
   },
   "source": [
    "### Let's look at the good stuff!"
   ]
  },
  {
   "cell_type": "code",
   "execution_count": 28,
   "metadata": {
    "slideshow": {
     "slide_type": "fragment"
    }
   },
   "outputs": [
    {
     "data": {
      "text/html": [
       "<div>\n",
       "<style scoped>\n",
       "    .dataframe tbody tr th:only-of-type {\n",
       "        vertical-align: middle;\n",
       "    }\n",
       "\n",
       "    .dataframe tbody tr th {\n",
       "        vertical-align: top;\n",
       "    }\n",
       "\n",
       "    .dataframe thead th {\n",
       "        text-align: right;\n",
       "    }\n",
       "</style>\n",
       "<table border=\"1\" class=\"dataframe\">\n",
       "  <thead>\n",
       "    <tr style=\"text-align: right;\">\n",
       "      <th></th>\n",
       "      <th>count</th>\n",
       "      <th>next</th>\n",
       "      <th>previous</th>\n",
       "      <th>results</th>\n",
       "    </tr>\n",
       "  </thead>\n",
       "  <tbody>\n",
       "    <tr>\n",
       "      <th>0</th>\n",
       "      <td>131</td>\n",
       "      <td>NaN</td>\n",
       "      <td>NaN</td>\n",
       "      <td>{'name': 'ABC.es', 'slug': 'abces', 'domain': ...</td>\n",
       "    </tr>\n",
       "    <tr>\n",
       "      <th>1</th>\n",
       "      <td>131</td>\n",
       "      <td>NaN</td>\n",
       "      <td>NaN</td>\n",
       "      <td>{'name': 'ABC News', 'slug': 'abc-news', 'doma...</td>\n",
       "    </tr>\n",
       "    <tr>\n",
       "      <th>2</th>\n",
       "      <td>131</td>\n",
       "      <td>NaN</td>\n",
       "      <td>NaN</td>\n",
       "      <td>{'name': 'Al Arabiya', 'slug': 'al-arabiya', '...</td>\n",
       "    </tr>\n",
       "    <tr>\n",
       "      <th>3</th>\n",
       "      <td>131</td>\n",
       "      <td>NaN</td>\n",
       "      <td>NaN</td>\n",
       "      <td>{'name': 'Al Jazeera', 'slug': 'al-jazeera', '...</td>\n",
       "    </tr>\n",
       "    <tr>\n",
       "      <th>4</th>\n",
       "      <td>131</td>\n",
       "      <td>NaN</td>\n",
       "      <td>NaN</td>\n",
       "      <td>{'name': 'Anandabazar', 'slug': 'anandabazar',...</td>\n",
       "    </tr>\n",
       "  </tbody>\n",
       "</table>\n",
       "</div>"
      ],
      "text/plain": [
       "   count  next  previous                                            results\n",
       "0    131   NaN       NaN  {'name': 'ABC.es', 'slug': 'abces', 'domain': ...\n",
       "1    131   NaN       NaN  {'name': 'ABC News', 'slug': 'abc-news', 'doma...\n",
       "2    131   NaN       NaN  {'name': 'Al Arabiya', 'slug': 'al-arabiya', '...\n",
       "3    131   NaN       NaN  {'name': 'Al Jazeera', 'slug': 'al-jazeera', '...\n",
       "4    131   NaN       NaN  {'name': 'Anandabazar', 'slug': 'anandabazar',..."
      ]
     },
     "execution_count": 28,
     "metadata": {},
     "output_type": "execute_result"
    }
   ],
   "source": [
    "df.head()"
   ]
  },
  {
   "cell_type": "code",
   "execution_count": 29,
   "metadata": {
    "slideshow": {
     "slide_type": "fragment"
    }
   },
   "outputs": [
    {
     "data": {
      "text/plain": [
       "0    {'name': 'ABC.es', 'slug': 'abces', 'domain': ...\n",
       "1    {'name': 'ABC News', 'slug': 'abc-news', 'doma...\n",
       "2    {'name': 'Al Arabiya', 'slug': 'al-arabiya', '...\n",
       "3    {'name': 'Al Jazeera', 'slug': 'al-jazeera', '...\n",
       "4    {'name': 'Anandabazar', 'slug': 'anandabazar',...\n",
       "Name: results, dtype: object"
      ]
     },
     "execution_count": 29,
     "metadata": {},
     "output_type": "execute_result"
    }
   ],
   "source": [
    "df['results'].head()"
   ]
  },
  {
   "cell_type": "markdown",
   "metadata": {
    "slideshow": {
     "slide_type": "subslide"
    }
   },
   "source": [
    "### Create `DataFrame` from JSON API output"
   ]
  },
  {
   "cell_type": "code",
   "execution_count": 30,
   "metadata": {
    "slideshow": {
     "slide_type": "fragment"
    }
   },
   "outputs": [],
   "source": [
    "from pandas.io.json import json_normalize\n",
    "\n",
    "results_df = json_normalize(df['results'])"
   ]
  },
  {
   "cell_type": "code",
   "execution_count": 31,
   "metadata": {
    "slideshow": {
     "slide_type": "fragment"
    }
   },
   "outputs": [
    {
     "data": {
      "text/html": [
       "<div>\n",
       "<style scoped>\n",
       "    .dataframe tbody tr th:only-of-type {\n",
       "        vertical-align: middle;\n",
       "    }\n",
       "\n",
       "    .dataframe tbody tr th {\n",
       "        vertical-align: top;\n",
       "    }\n",
       "\n",
       "    .dataframe thead th {\n",
       "        text-align: right;\n",
       "    }\n",
       "</style>\n",
       "<table border=\"1\" class=\"dataframe\">\n",
       "  <thead>\n",
       "    <tr style=\"text-align: right;\">\n",
       "      <th></th>\n",
       "      <th>added</th>\n",
       "      <th>all_scans</th>\n",
       "      <th>domain</th>\n",
       "      <th>latest_scan.defaults_to_https</th>\n",
       "      <th>latest_scan.downgrades_https</th>\n",
       "      <th>latest_scan.grade</th>\n",
       "      <th>latest_scan.hsts</th>\n",
       "      <th>latest_scan.hsts_entire_domain</th>\n",
       "      <th>latest_scan.hsts_max_age</th>\n",
       "      <th>latest_scan.hsts_preload_ready</th>\n",
       "      <th>latest_scan.hsts_preloaded</th>\n",
       "      <th>latest_scan.live</th>\n",
       "      <th>latest_scan.score</th>\n",
       "      <th>latest_scan.timestamp</th>\n",
       "      <th>latest_scan.valid_https</th>\n",
       "      <th>name</th>\n",
       "      <th>slug</th>\n",
       "    </tr>\n",
       "  </thead>\n",
       "  <tbody>\n",
       "    <tr>\n",
       "      <th>0</th>\n",
       "      <td>2016-11-22T18:37:39.934408Z</td>\n",
       "      <td>https://securethe.news/api/v1/sites/abc.es/scans/</td>\n",
       "      <td>abc.es</td>\n",
       "      <td>False</td>\n",
       "      <td>False</td>\n",
       "      <td>F</td>\n",
       "      <td>False</td>\n",
       "      <td>None</td>\n",
       "      <td>NaN</td>\n",
       "      <td>False</td>\n",
       "      <td>False</td>\n",
       "      <td>True</td>\n",
       "      <td>0</td>\n",
       "      <td>2018-02-14T16:00:17.239407Z</td>\n",
       "      <td>None</td>\n",
       "      <td>ABC.es</td>\n",
       "      <td>abces</td>\n",
       "    </tr>\n",
       "    <tr>\n",
       "      <th>1</th>\n",
       "      <td>2016-11-22T18:37:39.371341Z</td>\n",
       "      <td>https://securethe.news/api/v1/sites/abcnews.go...</td>\n",
       "      <td>abcnews.go.com</td>\n",
       "      <td>False</td>\n",
       "      <td>False</td>\n",
       "      <td>C</td>\n",
       "      <td>False</td>\n",
       "      <td>None</td>\n",
       "      <td>NaN</td>\n",
       "      <td>False</td>\n",
       "      <td>False</td>\n",
       "      <td>True</td>\n",
       "      <td>50</td>\n",
       "      <td>2018-02-14T16:00:21.580017Z</td>\n",
       "      <td>True</td>\n",
       "      <td>ABC News</td>\n",
       "      <td>abc-news</td>\n",
       "    </tr>\n",
       "    <tr>\n",
       "      <th>2</th>\n",
       "      <td>2016-11-22T18:37:39.941184Z</td>\n",
       "      <td>https://securethe.news/api/v1/sites/alarabiya....</td>\n",
       "      <td>alarabiya.net</td>\n",
       "      <td>False</td>\n",
       "      <td>False</td>\n",
       "      <td>C</td>\n",
       "      <td>False</td>\n",
       "      <td>None</td>\n",
       "      <td>NaN</td>\n",
       "      <td>False</td>\n",
       "      <td>False</td>\n",
       "      <td>True</td>\n",
       "      <td>50</td>\n",
       "      <td>2018-02-14T16:00:30.779359Z</td>\n",
       "      <td>True</td>\n",
       "      <td>Al Arabiya</td>\n",
       "      <td>al-arabiya</td>\n",
       "    </tr>\n",
       "    <tr>\n",
       "      <th>3</th>\n",
       "      <td>2016-11-22T18:37:39.413905Z</td>\n",
       "      <td>https://securethe.news/api/v1/sites/aljazeera....</td>\n",
       "      <td>aljazeera.com</td>\n",
       "      <td>False</td>\n",
       "      <td>False</td>\n",
       "      <td>C</td>\n",
       "      <td>False</td>\n",
       "      <td>None</td>\n",
       "      <td>NaN</td>\n",
       "      <td>False</td>\n",
       "      <td>False</td>\n",
       "      <td>True</td>\n",
       "      <td>50</td>\n",
       "      <td>2018-02-14T16:00:35.604345Z</td>\n",
       "      <td>True</td>\n",
       "      <td>Al Jazeera</td>\n",
       "      <td>al-jazeera</td>\n",
       "    </tr>\n",
       "    <tr>\n",
       "      <th>4</th>\n",
       "      <td>2016-11-22T18:37:39.737176Z</td>\n",
       "      <td>https://securethe.news/api/v1/sites/anandabaza...</td>\n",
       "      <td>anandabazar.com</td>\n",
       "      <td>False</td>\n",
       "      <td>True</td>\n",
       "      <td>F</td>\n",
       "      <td>False</td>\n",
       "      <td>None</td>\n",
       "      <td>NaN</td>\n",
       "      <td>False</td>\n",
       "      <td>False</td>\n",
       "      <td>True</td>\n",
       "      <td>0</td>\n",
       "      <td>2018-02-14T16:00:41.173307Z</td>\n",
       "      <td>None</td>\n",
       "      <td>Anandabazar</td>\n",
       "      <td>anandabazar</td>\n",
       "    </tr>\n",
       "  </tbody>\n",
       "</table>\n",
       "</div>"
      ],
      "text/plain": [
       "                         added  \\\n",
       "0  2016-11-22T18:37:39.934408Z   \n",
       "1  2016-11-22T18:37:39.371341Z   \n",
       "2  2016-11-22T18:37:39.941184Z   \n",
       "3  2016-11-22T18:37:39.413905Z   \n",
       "4  2016-11-22T18:37:39.737176Z   \n",
       "\n",
       "                                           all_scans           domain  \\\n",
       "0  https://securethe.news/api/v1/sites/abc.es/scans/           abc.es   \n",
       "1  https://securethe.news/api/v1/sites/abcnews.go...   abcnews.go.com   \n",
       "2  https://securethe.news/api/v1/sites/alarabiya....    alarabiya.net   \n",
       "3  https://securethe.news/api/v1/sites/aljazeera....    aljazeera.com   \n",
       "4  https://securethe.news/api/v1/sites/anandabaza...  anandabazar.com   \n",
       "\n",
       "   latest_scan.defaults_to_https  latest_scan.downgrades_https  \\\n",
       "0                          False                         False   \n",
       "1                          False                         False   \n",
       "2                          False                         False   \n",
       "3                          False                         False   \n",
       "4                          False                          True   \n",
       "\n",
       "  latest_scan.grade  latest_scan.hsts latest_scan.hsts_entire_domain  \\\n",
       "0                 F             False                           None   \n",
       "1                 C             False                           None   \n",
       "2                 C             False                           None   \n",
       "3                 C             False                           None   \n",
       "4                 F             False                           None   \n",
       "\n",
       "   latest_scan.hsts_max_age latest_scan.hsts_preload_ready  \\\n",
       "0                       NaN                          False   \n",
       "1                       NaN                          False   \n",
       "2                       NaN                          False   \n",
       "3                       NaN                          False   \n",
       "4                       NaN                          False   \n",
       "\n",
       "   latest_scan.hsts_preloaded  latest_scan.live  latest_scan.score  \\\n",
       "0                       False              True                  0   \n",
       "1                       False              True                 50   \n",
       "2                       False              True                 50   \n",
       "3                       False              True                 50   \n",
       "4                       False              True                  0   \n",
       "\n",
       "         latest_scan.timestamp latest_scan.valid_https         name  \\\n",
       "0  2018-02-14T16:00:17.239407Z                    None       ABC.es   \n",
       "1  2018-02-14T16:00:21.580017Z                    True     ABC News   \n",
       "2  2018-02-14T16:00:30.779359Z                    True   Al Arabiya   \n",
       "3  2018-02-14T16:00:35.604345Z                    True   Al Jazeera   \n",
       "4  2018-02-14T16:00:41.173307Z                    None  Anandabazar   \n",
       "\n",
       "          slug  \n",
       "0        abces  \n",
       "1     abc-news  \n",
       "2   al-arabiya  \n",
       "3   al-jazeera  \n",
       "4  anandabazar  "
      ]
     },
     "execution_count": 31,
     "metadata": {},
     "output_type": "execute_result"
    }
   ],
   "source": [
    "results_df.head()"
   ]
  },
  {
   "cell_type": "code",
   "execution_count": 32,
   "metadata": {
    "slideshow": {
     "slide_type": "slide"
    }
   },
   "outputs": [
    {
     "data": {
      "text/plain": [
       "<matplotlib.axes._subplots.AxesSubplot at 0x108880da0>"
      ]
     },
     "execution_count": 32,
     "metadata": {},
     "output_type": "execute_result"
    },
    {
     "data": {
      "image/png": "[encoded data removed]",
      "text/plain": [
       "<matplotlib.figure.Figure at 0x108880358>"
      ]
     },
     "metadata": {},
     "output_type": "display_data"
    }
   ],
   "source": [
    "results_df[\"latest_scan.score\"].plot('hist', title='STN Score Distribution', bins=30)"
   ]
  },
  {
   "cell_type": "markdown",
   "metadata": {
    "slideshow": {
     "slide_type": "slide"
    }
   },
   "source": [
    "# Top scorers"
   ]
  },
  {
   "cell_type": "code",
   "execution_count": 33,
   "metadata": {
    "slideshow": {
     "slide_type": "fragment"
    }
   },
   "outputs": [
    {
     "data": {
      "text/html": [
       "<div>\n",
       "<style scoped>\n",
       "    .dataframe tbody tr th:only-of-type {\n",
       "        vertical-align: middle;\n",
       "    }\n",
       "\n",
       "    .dataframe tbody tr th {\n",
       "        vertical-align: top;\n",
       "    }\n",
       "\n",
       "    .dataframe thead th {\n",
       "        text-align: right;\n",
       "    }\n",
       "</style>\n",
       "<table border=\"1\" class=\"dataframe\">\n",
       "  <thead>\n",
       "    <tr style=\"text-align: right;\">\n",
       "      <th></th>\n",
       "      <th>added</th>\n",
       "      <th>all_scans</th>\n",
       "      <th>domain</th>\n",
       "      <th>latest_scan.defaults_to_https</th>\n",
       "      <th>latest_scan.downgrades_https</th>\n",
       "      <th>latest_scan.grade</th>\n",
       "      <th>latest_scan.hsts</th>\n",
       "      <th>latest_scan.hsts_entire_domain</th>\n",
       "      <th>latest_scan.hsts_max_age</th>\n",
       "      <th>latest_scan.hsts_preload_ready</th>\n",
       "      <th>latest_scan.hsts_preloaded</th>\n",
       "      <th>latest_scan.live</th>\n",
       "      <th>latest_scan.score</th>\n",
       "      <th>latest_scan.timestamp</th>\n",
       "      <th>latest_scan.valid_https</th>\n",
       "      <th>name</th>\n",
       "      <th>slug</th>\n",
       "    </tr>\n",
       "  </thead>\n",
       "  <tbody>\n",
       "    <tr>\n",
       "      <th>18</th>\n",
       "      <td>2016-12-17T02:36:10.047116Z</td>\n",
       "      <td>https://securethe.news/api/v1/sites/publicinte...</td>\n",
       "      <td>publicintegrity.org</td>\n",
       "      <td>True</td>\n",
       "      <td>False</td>\n",
       "      <td>A+</td>\n",
       "      <td>True</td>\n",
       "      <td>True</td>\n",
       "      <td>63072000.0</td>\n",
       "      <td>True</td>\n",
       "      <td>True</td>\n",
       "      <td>True</td>\n",
       "      <td>100</td>\n",
       "      <td>2018-02-14T16:01:57.183796Z</td>\n",
       "      <td>True</td>\n",
       "      <td>Center for Public Integrity</td>\n",
       "      <td>center-for-public-integrity</td>\n",
       "    </tr>\n",
       "    <tr>\n",
       "      <th>24</th>\n",
       "      <td>2017-02-09T18:12:33.998580Z</td>\n",
       "      <td>https://securethe.news/api/v1/sites/computerba...</td>\n",
       "      <td>computerbase.de</td>\n",
       "      <td>True</td>\n",
       "      <td>False</td>\n",
       "      <td>A+</td>\n",
       "      <td>True</td>\n",
       "      <td>True</td>\n",
       "      <td>63072000.0</td>\n",
       "      <td>True</td>\n",
       "      <td>True</td>\n",
       "      <td>True</td>\n",
       "      <td>100</td>\n",
       "      <td>2018-02-14T16:02:36.906178Z</td>\n",
       "      <td>True</td>\n",
       "      <td>ComputerBase</td>\n",
       "      <td>computerbase</td>\n",
       "    </tr>\n",
       "    <tr>\n",
       "      <th>53</th>\n",
       "      <td>2016-11-22T18:37:39.593020Z</td>\n",
       "      <td>https://securethe.news/api/v1/sites/infobae.co...</td>\n",
       "      <td>infobae.com</td>\n",
       "      <td>True</td>\n",
       "      <td>False</td>\n",
       "      <td>A+</td>\n",
       "      <td>True</td>\n",
       "      <td>True</td>\n",
       "      <td>31536000.0</td>\n",
       "      <td>True</td>\n",
       "      <td>True</td>\n",
       "      <td>True</td>\n",
       "      <td>100</td>\n",
       "      <td>2018-02-14T16:06:53.402458Z</td>\n",
       "      <td>True</td>\n",
       "      <td>Infobae</td>\n",
       "      <td>infobae</td>\n",
       "    </tr>\n",
       "    <tr>\n",
       "      <th>59</th>\n",
       "      <td>2017-02-02T03:04:28.398678Z</td>\n",
       "      <td>https://securethe.news/api/v1/sites/letemps.ch...</td>\n",
       "      <td>letemps.ch</td>\n",
       "      <td>True</td>\n",
       "      <td>False</td>\n",
       "      <td>A+</td>\n",
       "      <td>True</td>\n",
       "      <td>True</td>\n",
       "      <td>15552000.0</td>\n",
       "      <td>True</td>\n",
       "      <td>True</td>\n",
       "      <td>True</td>\n",
       "      <td>100</td>\n",
       "      <td>2018-02-14T16:07:50.336324Z</td>\n",
       "      <td>True</td>\n",
       "      <td>Le Temps</td>\n",
       "      <td>le-temps</td>\n",
       "    </tr>\n",
       "    <tr>\n",
       "      <th>62</th>\n",
       "      <td>2016-12-17T02:35:43.317597Z</td>\n",
       "      <td>https://securethe.news/api/v1/sites/themarshal...</td>\n",
       "      <td>themarshallproject.org</td>\n",
       "      <td>True</td>\n",
       "      <td>False</td>\n",
       "      <td>A+</td>\n",
       "      <td>True</td>\n",
       "      <td>True</td>\n",
       "      <td>31536000.0</td>\n",
       "      <td>True</td>\n",
       "      <td>True</td>\n",
       "      <td>True</td>\n",
       "      <td>100</td>\n",
       "      <td>2018-02-14T16:08:15.632999Z</td>\n",
       "      <td>True</td>\n",
       "      <td>Marshall Project</td>\n",
       "      <td>marshall-project</td>\n",
       "    </tr>\n",
       "    <tr>\n",
       "      <th>86</th>\n",
       "      <td>2016-11-22T18:37:39.729717Z</td>\n",
       "      <td>https://securethe.news/api/v1/sites/news.sky.c...</td>\n",
       "      <td>news.sky.com</td>\n",
       "      <td>True</td>\n",
       "      <td>False</td>\n",
       "      <td>A</td>\n",
       "      <td>True</td>\n",
       "      <td>True</td>\n",
       "      <td>31536000.0</td>\n",
       "      <td>True</td>\n",
       "      <td>False</td>\n",
       "      <td>True</td>\n",
       "      <td>95</td>\n",
       "      <td>2018-02-14T16:11:31.666750Z</td>\n",
       "      <td>True</td>\n",
       "      <td>Sky News</td>\n",
       "      <td>sky-news</td>\n",
       "    </tr>\n",
       "    <tr>\n",
       "      <th>94</th>\n",
       "      <td>2016-12-17T02:36:35.000088Z</td>\n",
       "      <td>https://securethe.news/api/v1/sites/techdirt.c...</td>\n",
       "      <td>techdirt.com</td>\n",
       "      <td>True</td>\n",
       "      <td>False</td>\n",
       "      <td>A+</td>\n",
       "      <td>True</td>\n",
       "      <td>True</td>\n",
       "      <td>15552000.0</td>\n",
       "      <td>True</td>\n",
       "      <td>True</td>\n",
       "      <td>True</td>\n",
       "      <td>100</td>\n",
       "      <td>2018-02-14T16:12:27.346476Z</td>\n",
       "      <td>True</td>\n",
       "      <td>Techdirt</td>\n",
       "      <td>techdirt</td>\n",
       "    </tr>\n",
       "    <tr>\n",
       "      <th>106</th>\n",
       "      <td>2016-11-22T18:37:39.608333Z</td>\n",
       "      <td>https://securethe.news/api/v1/sites/theinterce...</td>\n",
       "      <td>theintercept.com</td>\n",
       "      <td>True</td>\n",
       "      <td>False</td>\n",
       "      <td>A+</td>\n",
       "      <td>True</td>\n",
       "      <td>True</td>\n",
       "      <td>15768000.0</td>\n",
       "      <td>True</td>\n",
       "      <td>True</td>\n",
       "      <td>True</td>\n",
       "      <td>100</td>\n",
       "      <td>2018-02-14T16:13:35.807478Z</td>\n",
       "      <td>True</td>\n",
       "      <td>The Intercept</td>\n",
       "      <td>the-intercept</td>\n",
       "    </tr>\n",
       "    <tr>\n",
       "      <th>110</th>\n",
       "      <td>2017-01-18T01:16:31.804721Z</td>\n",
       "      <td>https://securethe.news/api/v1/sites/theoutline...</td>\n",
       "      <td>theoutline.com</td>\n",
       "      <td>True</td>\n",
       "      <td>False</td>\n",
       "      <td>A+</td>\n",
       "      <td>True</td>\n",
       "      <td>True</td>\n",
       "      <td>31536000.0</td>\n",
       "      <td>True</td>\n",
       "      <td>True</td>\n",
       "      <td>True</td>\n",
       "      <td>100</td>\n",
       "      <td>2018-02-14T16:14:00.550546Z</td>\n",
       "      <td>True</td>\n",
       "      <td>The Outline</td>\n",
       "      <td>the-outline</td>\n",
       "    </tr>\n",
       "  </tbody>\n",
       "</table>\n",
       "</div>"
      ],
      "text/plain": [
       "                           added  \\\n",
       "18   2016-12-17T02:36:10.047116Z   \n",
       "24   2017-02-09T18:12:33.998580Z   \n",
       "53   2016-11-22T18:37:39.593020Z   \n",
       "59   2017-02-02T03:04:28.398678Z   \n",
       "62   2016-12-17T02:35:43.317597Z   \n",
       "86   2016-11-22T18:37:39.729717Z   \n",
       "94   2016-12-17T02:36:35.000088Z   \n",
       "106  2016-11-22T18:37:39.608333Z   \n",
       "110  2017-01-18T01:16:31.804721Z   \n",
       "\n",
       "                                             all_scans  \\\n",
       "18   https://securethe.news/api/v1/sites/publicinte...   \n",
       "24   https://securethe.news/api/v1/sites/computerba...   \n",
       "53   https://securethe.news/api/v1/sites/infobae.co...   \n",
       "59   https://securethe.news/api/v1/sites/letemps.ch...   \n",
       "62   https://securethe.news/api/v1/sites/themarshal...   \n",
       "86   https://securethe.news/api/v1/sites/news.sky.c...   \n",
       "94   https://securethe.news/api/v1/sites/techdirt.c...   \n",
       "106  https://securethe.news/api/v1/sites/theinterce...   \n",
       "110  https://securethe.news/api/v1/sites/theoutline...   \n",
       "\n",
       "                     domain  latest_scan.defaults_to_https  \\\n",
       "18      publicintegrity.org                           True   \n",
       "24          computerbase.de                           True   \n",
       "53              infobae.com                           True   \n",
       "59               letemps.ch                           True   \n",
       "62   themarshallproject.org                           True   \n",
       "86             news.sky.com                           True   \n",
       "94             techdirt.com                           True   \n",
       "106        theintercept.com                           True   \n",
       "110          theoutline.com                           True   \n",
       "\n",
       "     latest_scan.downgrades_https latest_scan.grade  latest_scan.hsts  \\\n",
       "18                          False                A+              True   \n",
       "24                          False                A+              True   \n",
       "53                          False                A+              True   \n",
       "59                          False                A+              True   \n",
       "62                          False                A+              True   \n",
       "86                          False                 A              True   \n",
       "94                          False                A+              True   \n",
       "106                         False                A+              True   \n",
       "110                         False                A+              True   \n",
       "\n",
       "    latest_scan.hsts_entire_domain  latest_scan.hsts_max_age  \\\n",
       "18                            True                63072000.0   \n",
       "24                            True                63072000.0   \n",
       "53                            True                31536000.0   \n",
       "59                            True                15552000.0   \n",
       "62                            True                31536000.0   \n",
       "86                            True                31536000.0   \n",
       "94                            True                15552000.0   \n",
       "106                           True                15768000.0   \n",
       "110                           True                31536000.0   \n",
       "\n",
       "    latest_scan.hsts_preload_ready  latest_scan.hsts_preloaded  \\\n",
       "18                            True                        True   \n",
       "24                            True                        True   \n",
       "53                            True                        True   \n",
       "59                            True                        True   \n",
       "62                            True                        True   \n",
       "86                            True                       False   \n",
       "94                            True                        True   \n",
       "106                           True                        True   \n",
       "110                           True                        True   \n",
       "\n",
       "     latest_scan.live  latest_scan.score        latest_scan.timestamp  \\\n",
       "18               True                100  2018-02-14T16:01:57.183796Z   \n",
       "24               True                100  2018-02-14T16:02:36.906178Z   \n",
       "53               True                100  2018-02-14T16:06:53.402458Z   \n",
       "59               True                100  2018-02-14T16:07:50.336324Z   \n",
       "62               True                100  2018-02-14T16:08:15.632999Z   \n",
       "86               True                 95  2018-02-14T16:11:31.666750Z   \n",
       "94               True                100  2018-02-14T16:12:27.346476Z   \n",
       "106              True                100  2018-02-14T16:13:35.807478Z   \n",
       "110              True                100  2018-02-14T16:14:00.550546Z   \n",
       "\n",
       "    latest_scan.valid_https                         name  \\\n",
       "18                     True  Center for Public Integrity   \n",
       "24                     True                 ComputerBase   \n",
       "53                     True                      Infobae   \n",
       "59                     True                     Le Temps   \n",
       "62                     True             Marshall Project   \n",
       "86                     True                     Sky News   \n",
       "94                     True                     Techdirt   \n",
       "106                    True                The Intercept   \n",
       "110                    True                  The Outline   \n",
       "\n",
       "                            slug  \n",
       "18   center-for-public-integrity  \n",
       "24                  computerbase  \n",
       "53                       infobae  \n",
       "59                      le-temps  \n",
       "62              marshall-project  \n",
       "86                      sky-news  \n",
       "94                      techdirt  \n",
       "106                the-intercept  \n",
       "110                  the-outline  "
      ]
     },
     "execution_count": 33,
     "metadata": {},
     "output_type": "execute_result"
    }
   ],
   "source": [
    "results_df[results_df[\"latest_scan.score\"] > 85]"
   ]
  },
  {
   "cell_type": "markdown",
   "metadata": {
    "slideshow": {
     "slide_type": "slide"
    }
   },
   "source": [
    "# Low scorers"
   ]
  },
  {
   "cell_type": "code",
   "execution_count": 34,
   "metadata": {
    "slideshow": {
     "slide_type": "fragment"
    }
   },
   "outputs": [
    {
     "data": {
      "text/html": [
       "<div>\n",
       "<style scoped>\n",
       "    .dataframe tbody tr th:only-of-type {\n",
       "        vertical-align: middle;\n",
       "    }\n",
       "\n",
       "    .dataframe tbody tr th {\n",
       "        vertical-align: top;\n",
       "    }\n",
       "\n",
       "    .dataframe thead th {\n",
       "        text-align: right;\n",
       "    }\n",
       "</style>\n",
       "<table border=\"1\" class=\"dataframe\">\n",
       "  <thead>\n",
       "    <tr style=\"text-align: right;\">\n",
       "      <th></th>\n",
       "      <th>added</th>\n",
       "      <th>all_scans</th>\n",
       "      <th>domain</th>\n",
       "      <th>latest_scan.defaults_to_https</th>\n",
       "      <th>latest_scan.downgrades_https</th>\n",
       "      <th>latest_scan.grade</th>\n",
       "      <th>latest_scan.hsts</th>\n",
       "      <th>latest_scan.hsts_entire_domain</th>\n",
       "      <th>latest_scan.hsts_max_age</th>\n",
       "      <th>latest_scan.hsts_preload_ready</th>\n",
       "      <th>latest_scan.hsts_preloaded</th>\n",
       "      <th>latest_scan.live</th>\n",
       "      <th>latest_scan.score</th>\n",
       "      <th>latest_scan.timestamp</th>\n",
       "      <th>latest_scan.valid_https</th>\n",
       "      <th>name</th>\n",
       "      <th>slug</th>\n",
       "    </tr>\n",
       "  </thead>\n",
       "  <tbody>\n",
       "    <tr>\n",
       "      <th>0</th>\n",
       "      <td>2016-11-22T18:37:39.934408Z</td>\n",
       "      <td>https://securethe.news/api/v1/sites/abc.es/scans/</td>\n",
       "      <td>abc.es</td>\n",
       "      <td>False</td>\n",
       "      <td>False</td>\n",
       "      <td>F</td>\n",
       "      <td>False</td>\n",
       "      <td>None</td>\n",
       "      <td>NaN</td>\n",
       "      <td>False</td>\n",
       "      <td>False</td>\n",
       "      <td>True</td>\n",
       "      <td>0</td>\n",
       "      <td>2018-02-14T16:00:17.239407Z</td>\n",
       "      <td>None</td>\n",
       "      <td>ABC.es</td>\n",
       "      <td>abces</td>\n",
       "    </tr>\n",
       "    <tr>\n",
       "      <th>4</th>\n",
       "      <td>2016-11-22T18:37:39.737176Z</td>\n",
       "      <td>https://securethe.news/api/v1/sites/anandabaza...</td>\n",
       "      <td>anandabazar.com</td>\n",
       "      <td>False</td>\n",
       "      <td>True</td>\n",
       "      <td>F</td>\n",
       "      <td>False</td>\n",
       "      <td>None</td>\n",
       "      <td>NaN</td>\n",
       "      <td>False</td>\n",
       "      <td>False</td>\n",
       "      <td>True</td>\n",
       "      <td>0</td>\n",
       "      <td>2018-02-14T16:00:41.173307Z</td>\n",
       "      <td>None</td>\n",
       "      <td>Anandabazar</td>\n",
       "      <td>anandabazar</td>\n",
       "    </tr>\n",
       "    <tr>\n",
       "      <th>5</th>\n",
       "      <td>2016-11-22T18:37:39.489349Z</td>\n",
       "      <td>https://securethe.news/api/v1/sites/andhrajyot...</td>\n",
       "      <td>andhrajyothy.com</td>\n",
       "      <td>False</td>\n",
       "      <td>False</td>\n",
       "      <td>F</td>\n",
       "      <td>False</td>\n",
       "      <td>None</td>\n",
       "      <td>NaN</td>\n",
       "      <td>False</td>\n",
       "      <td>False</td>\n",
       "      <td>True</td>\n",
       "      <td>0</td>\n",
       "      <td>2018-02-14T16:00:49.559633Z</td>\n",
       "      <td>False</td>\n",
       "      <td>Andhrajyothi</td>\n",
       "      <td>andhrajyothi</td>\n",
       "    </tr>\n",
       "    <tr>\n",
       "      <th>13</th>\n",
       "      <td>2016-11-23T19:38:34.685643Z</td>\n",
       "      <td>https://securethe.news/api/v1/sites/breitbart....</td>\n",
       "      <td>breitbart.com</td>\n",
       "      <td>False</td>\n",
       "      <td>False</td>\n",
       "      <td>F</td>\n",
       "      <td>False</td>\n",
       "      <td>None</td>\n",
       "      <td>NaN</td>\n",
       "      <td>False</td>\n",
       "      <td>False</td>\n",
       "      <td>True</td>\n",
       "      <td>0</td>\n",
       "      <td>2018-02-14T16:01:33.339684Z</td>\n",
       "      <td>None</td>\n",
       "      <td>Breitbart</td>\n",
       "      <td>breitbart</td>\n",
       "    </tr>\n",
       "    <tr>\n",
       "      <th>26</th>\n",
       "      <td>2016-11-22T18:37:39.661192Z</td>\n",
       "      <td>https://securethe.news/api/v1/sites/corriere.i...</td>\n",
       "      <td>corriere.it</td>\n",
       "      <td>False</td>\n",
       "      <td>False</td>\n",
       "      <td>F</td>\n",
       "      <td>False</td>\n",
       "      <td>None</td>\n",
       "      <td>NaN</td>\n",
       "      <td>False</td>\n",
       "      <td>False</td>\n",
       "      <td>True</td>\n",
       "      <td>0</td>\n",
       "      <td>2018-02-14T16:03:00.381916Z</td>\n",
       "      <td>None</td>\n",
       "      <td>Corriere della Sera</td>\n",
       "      <td>corriere-della-sera</td>\n",
       "    </tr>\n",
       "    <tr>\n",
       "      <th>28</th>\n",
       "      <td>2017-02-13T22:36:12.115769Z</td>\n",
       "      <td>https://securethe.news/api/v1/sites/zeit.de/sc...</td>\n",
       "      <td>zeit.de</td>\n",
       "      <td>False</td>\n",
       "      <td>False</td>\n",
       "      <td>F</td>\n",
       "      <td>False</td>\n",
       "      <td>None</td>\n",
       "      <td>NaN</td>\n",
       "      <td>False</td>\n",
       "      <td>False</td>\n",
       "      <td>True</td>\n",
       "      <td>0</td>\n",
       "      <td>2018-02-14T16:03:17.996403Z</td>\n",
       "      <td>False</td>\n",
       "      <td>Die ZEIT</td>\n",
       "      <td>die-zeit</td>\n",
       "    </tr>\n",
       "    <tr>\n",
       "      <th>29</th>\n",
       "      <td>2016-11-22T18:37:39.453447Z</td>\n",
       "      <td>https://securethe.news/api/v1/sites/dnaindia.c...</td>\n",
       "      <td>dnaindia.com</td>\n",
       "      <td>False</td>\n",
       "      <td>False</td>\n",
       "      <td>F</td>\n",
       "      <td>False</td>\n",
       "      <td>None</td>\n",
       "      <td>NaN</td>\n",
       "      <td>False</td>\n",
       "      <td>False</td>\n",
       "      <td>True</td>\n",
       "      <td>0</td>\n",
       "      <td>2018-02-14T16:03:29.051712Z</td>\n",
       "      <td>None</td>\n",
       "      <td>DNA India</td>\n",
       "      <td>dna-india</td>\n",
       "    </tr>\n",
       "    <tr>\n",
       "      <th>30</th>\n",
       "      <td>2016-11-23T19:38:03.360489Z</td>\n",
       "      <td>https://securethe.news/api/v1/sites/drudgerepo...</td>\n",
       "      <td>drudgereport.com</td>\n",
       "      <td>False</td>\n",
       "      <td>False</td>\n",
       "      <td>F</td>\n",
       "      <td>False</td>\n",
       "      <td>None</td>\n",
       "      <td>NaN</td>\n",
       "      <td>False</td>\n",
       "      <td>False</td>\n",
       "      <td>True</td>\n",
       "      <td>0</td>\n",
       "      <td>2018-02-14T16:03:32.930440Z</td>\n",
       "      <td>False</td>\n",
       "      <td>Drudge Report</td>\n",
       "      <td>drudge-report</td>\n",
       "    </tr>\n",
       "    <tr>\n",
       "      <th>35</th>\n",
       "      <td>2016-11-22T18:37:39.684339Z</td>\n",
       "      <td>https://securethe.news/api/v1/sites/euronews.c...</td>\n",
       "      <td>euronews.com</td>\n",
       "      <td>False</td>\n",
       "      <td>False</td>\n",
       "      <td>F</td>\n",
       "      <td>False</td>\n",
       "      <td>None</td>\n",
       "      <td>NaN</td>\n",
       "      <td>False</td>\n",
       "      <td>False</td>\n",
       "      <td>True</td>\n",
       "      <td>0</td>\n",
       "      <td>2018-02-14T16:04:37.338348Z</td>\n",
       "      <td>False</td>\n",
       "      <td>Euronews</td>\n",
       "      <td>euronews</td>\n",
       "    </tr>\n",
       "    <tr>\n",
       "      <th>43</th>\n",
       "      <td>2016-11-22T18:37:39.623572Z</td>\n",
       "      <td>https://securethe.news/api/v1/sites/france24.c...</td>\n",
       "      <td>france24.com</td>\n",
       "      <td>False</td>\n",
       "      <td>False</td>\n",
       "      <td>F</td>\n",
       "      <td>False</td>\n",
       "      <td>None</td>\n",
       "      <td>NaN</td>\n",
       "      <td>False</td>\n",
       "      <td>False</td>\n",
       "      <td>True</td>\n",
       "      <td>0</td>\n",
       "      <td>2018-02-14T16:05:22.024144Z</td>\n",
       "      <td>None</td>\n",
       "      <td>France 24</td>\n",
       "      <td>france-24</td>\n",
       "    </tr>\n",
       "    <tr>\n",
       "      <th>45</th>\n",
       "      <td>2016-11-22T18:37:39.496586Z</td>\n",
       "      <td>https://securethe.news/api/v1/sites/globaltime...</td>\n",
       "      <td>globaltimes.cn</td>\n",
       "      <td>False</td>\n",
       "      <td>False</td>\n",
       "      <td>F</td>\n",
       "      <td>False</td>\n",
       "      <td>None</td>\n",
       "      <td>NaN</td>\n",
       "      <td>False</td>\n",
       "      <td>False</td>\n",
       "      <td>True</td>\n",
       "      <td>0</td>\n",
       "      <td>2018-02-14T16:05:36.948601Z</td>\n",
       "      <td>None</td>\n",
       "      <td>Global Times</td>\n",
       "      <td>global-times</td>\n",
       "    </tr>\n",
       "    <tr>\n",
       "      <th>51</th>\n",
       "      <td>2016-11-22T18:37:39.554709Z</td>\n",
       "      <td>https://securethe.news/api/v1/sites/ilsole24or...</td>\n",
       "      <td>ilsole24ore.com</td>\n",
       "      <td>False</td>\n",
       "      <td>False</td>\n",
       "      <td>F</td>\n",
       "      <td>False</td>\n",
       "      <td>None</td>\n",
       "      <td>NaN</td>\n",
       "      <td>False</td>\n",
       "      <td>False</td>\n",
       "      <td>True</td>\n",
       "      <td>0</td>\n",
       "      <td>2018-02-14T16:06:39.614718Z</td>\n",
       "      <td>None</td>\n",
       "      <td>Il Sole 24 Ore</td>\n",
       "      <td>il-sole-24-ore</td>\n",
       "    </tr>\n",
       "    <tr>\n",
       "      <th>56</th>\n",
       "      <td>2016-11-22T18:37:39.881722Z</td>\n",
       "      <td>https://securethe.news/api/v1/sites/lastampa.i...</td>\n",
       "      <td>lastampa.it</td>\n",
       "      <td>False</td>\n",
       "      <td>False</td>\n",
       "      <td>F</td>\n",
       "      <td>False</td>\n",
       "      <td>None</td>\n",
       "      <td>NaN</td>\n",
       "      <td>False</td>\n",
       "      <td>False</td>\n",
       "      <td>True</td>\n",
       "      <td>0</td>\n",
       "      <td>2018-02-14T16:07:21.349467Z</td>\n",
       "      <td>None</td>\n",
       "      <td>La Stampa</td>\n",
       "      <td>la-stampa</td>\n",
       "    </tr>\n",
       "    <tr>\n",
       "      <th>57</th>\n",
       "      <td>2016-11-22T18:37:39.866748Z</td>\n",
       "      <td>https://securethe.news/api/v1/sites/lavanguard...</td>\n",
       "      <td>lavanguardia.com</td>\n",
       "      <td>False</td>\n",
       "      <td>False</td>\n",
       "      <td>F</td>\n",
       "      <td>False</td>\n",
       "      <td>None</td>\n",
       "      <td>NaN</td>\n",
       "      <td>False</td>\n",
       "      <td>False</td>\n",
       "      <td>True</td>\n",
       "      <td>0</td>\n",
       "      <td>2018-02-14T16:07:36.164372Z</td>\n",
       "      <td>False</td>\n",
       "      <td>La Vanguardia</td>\n",
       "      <td>la-vanguardia</td>\n",
       "    </tr>\n",
       "    <tr>\n",
       "      <th>61</th>\n",
       "      <td>2016-11-22T18:37:39.353625Z</td>\n",
       "      <td>https://securethe.news/api/v1/sites/dailymail....</td>\n",
       "      <td>dailymail.co.uk</td>\n",
       "      <td>False</td>\n",
       "      <td>False</td>\n",
       "      <td>F</td>\n",
       "      <td>False</td>\n",
       "      <td>None</td>\n",
       "      <td>NaN</td>\n",
       "      <td>False</td>\n",
       "      <td>False</td>\n",
       "      <td>True</td>\n",
       "      <td>0</td>\n",
       "      <td>2018-02-14T16:08:08.048157Z</td>\n",
       "      <td>None</td>\n",
       "      <td>Mail Online</td>\n",
       "      <td>mail-online</td>\n",
       "    </tr>\n",
       "    <tr>\n",
       "      <th>64</th>\n",
       "      <td>2016-11-22T18:37:39.547393Z</td>\n",
       "      <td>https://securethe.news/api/v1/sites/mathrubhum...</td>\n",
       "      <td>mathrubhumi.com</td>\n",
       "      <td>False</td>\n",
       "      <td>False</td>\n",
       "      <td>F</td>\n",
       "      <td>False</td>\n",
       "      <td>None</td>\n",
       "      <td>NaN</td>\n",
       "      <td>False</td>\n",
       "      <td>False</td>\n",
       "      <td>True</td>\n",
       "      <td>0</td>\n",
       "      <td>2018-02-14T16:08:28.722659Z</td>\n",
       "      <td>None</td>\n",
       "      <td>Mathrubhumi</td>\n",
       "      <td>mathrubhumi</td>\n",
       "    </tr>\n",
       "    <tr>\n",
       "      <th>69</th>\n",
       "      <td>2016-11-22T18:37:39.357075Z</td>\n",
       "      <td>https://securethe.news/api/v1/sites/newsweek.c...</td>\n",
       "      <td>newsweek.com</td>\n",
       "      <td>False</td>\n",
       "      <td>False</td>\n",
       "      <td>F</td>\n",
       "      <td>False</td>\n",
       "      <td>None</td>\n",
       "      <td>NaN</td>\n",
       "      <td>False</td>\n",
       "      <td>False</td>\n",
       "      <td>True</td>\n",
       "      <td>0</td>\n",
       "      <td>2018-02-14T16:09:05.675408Z</td>\n",
       "      <td>False</td>\n",
       "      <td>Newsweek</td>\n",
       "      <td>newsweek</td>\n",
       "    </tr>\n",
       "    <tr>\n",
       "      <th>75</th>\n",
       "      <td>2016-11-22T18:37:39.926754Z</td>\n",
       "      <td>https://securethe.news/api/v1/sites/people.cn/...</td>\n",
       "      <td>people.cn</td>\n",
       "      <td>False</td>\n",
       "      <td>False</td>\n",
       "      <td>F</td>\n",
       "      <td>False</td>\n",
       "      <td>None</td>\n",
       "      <td>NaN</td>\n",
       "      <td>False</td>\n",
       "      <td>False</td>\n",
       "      <td>True</td>\n",
       "      <td>0</td>\n",
       "      <td>2018-02-14T16:10:05.081396Z</td>\n",
       "      <td>False</td>\n",
       "      <td>People's Daily</td>\n",
       "      <td>peoples-daily</td>\n",
       "    </tr>\n",
       "    <tr>\n",
       "      <th>77</th>\n",
       "      <td>2016-11-22T18:37:39.532958Z</td>\n",
       "      <td>https://securethe.news/api/v1/sites/pravdarepo...</td>\n",
       "      <td>pravdareport.com</td>\n",
       "      <td>False</td>\n",
       "      <td>False</td>\n",
       "      <td>F</td>\n",
       "      <td>False</td>\n",
       "      <td>None</td>\n",
       "      <td>NaN</td>\n",
       "      <td>False</td>\n",
       "      <td>False</td>\n",
       "      <td>True</td>\n",
       "      <td>0</td>\n",
       "      <td>2018-02-14T16:10:28.253993Z</td>\n",
       "      <td>False</td>\n",
       "      <td>Pravda Report</td>\n",
       "      <td>pravda-report</td>\n",
       "    </tr>\n",
       "    <tr>\n",
       "      <th>85</th>\n",
       "      <td>2016-11-22T18:37:39.744992Z</td>\n",
       "      <td>https://securethe.news/api/v1/sites/shanghaida...</td>\n",
       "      <td>shanghaidaily.com</td>\n",
       "      <td>False</td>\n",
       "      <td>False</td>\n",
       "      <td>F</td>\n",
       "      <td>False</td>\n",
       "      <td>None</td>\n",
       "      <td>NaN</td>\n",
       "      <td>False</td>\n",
       "      <td>False</td>\n",
       "      <td>True</td>\n",
       "      <td>0</td>\n",
       "      <td>2018-02-14T16:11:28.043614Z</td>\n",
       "      <td>False</td>\n",
       "      <td>Shanghai Daily</td>\n",
       "      <td>shanghai-daily</td>\n",
       "    </tr>\n",
       "    <tr>\n",
       "      <th>91</th>\n",
       "      <td>2016-11-22T18:37:39.919003Z</td>\n",
       "      <td>https://securethe.news/api/v1/sites/sw.com/scans/</td>\n",
       "      <td>sw.com</td>\n",
       "      <td>False</td>\n",
       "      <td>False</td>\n",
       "      <td>F</td>\n",
       "      <td>False</td>\n",
       "      <td>None</td>\n",
       "      <td>NaN</td>\n",
       "      <td>False</td>\n",
       "      <td>False</td>\n",
       "      <td>True</td>\n",
       "      <td>0</td>\n",
       "      <td>2018-02-14T16:12:10.336909Z</td>\n",
       "      <td>None</td>\n",
       "      <td>sw.com</td>\n",
       "      <td>swcom</td>\n",
       "    </tr>\n",
       "    <tr>\n",
       "      <th>101</th>\n",
       "      <td>2016-11-22T18:37:39.874153Z</td>\n",
       "      <td>https://securethe.news/api/v1/sites/thehill.co...</td>\n",
       "      <td>thehill.com</td>\n",
       "      <td>False</td>\n",
       "      <td>False</td>\n",
       "      <td>F</td>\n",
       "      <td>False</td>\n",
       "      <td>None</td>\n",
       "      <td>NaN</td>\n",
       "      <td>False</td>\n",
       "      <td>False</td>\n",
       "      <td>True</td>\n",
       "      <td>0</td>\n",
       "      <td>2018-02-14T16:12:59.522087Z</td>\n",
       "      <td>None</td>\n",
       "      <td>The Hill</td>\n",
       "      <td>the-hill</td>\n",
       "    </tr>\n",
       "    <tr>\n",
       "      <th>102</th>\n",
       "      <td>2016-11-22T18:37:39.432308Z</td>\n",
       "      <td>https://securethe.news/api/v1/sites/thehindu.c...</td>\n",
       "      <td>thehindu.com</td>\n",
       "      <td>False</td>\n",
       "      <td>False</td>\n",
       "      <td>F</td>\n",
       "      <td>False</td>\n",
       "      <td>None</td>\n",
       "      <td>NaN</td>\n",
       "      <td>False</td>\n",
       "      <td>False</td>\n",
       "      <td>True</td>\n",
       "      <td>0</td>\n",
       "      <td>2018-02-14T16:13:15.291035Z</td>\n",
       "      <td>False</td>\n",
       "      <td>The Hindu</td>\n",
       "      <td>the-hindu</td>\n",
       "    </tr>\n",
       "    <tr>\n",
       "      <th>111</th>\n",
       "      <td>2016-11-22T18:37:39.904713Z</td>\n",
       "      <td>https://securethe.news/api/v1/sites/smh.com.au...</td>\n",
       "      <td>smh.com.au</td>\n",
       "      <td>False</td>\n",
       "      <td>False</td>\n",
       "      <td>F</td>\n",
       "      <td>False</td>\n",
       "      <td>None</td>\n",
       "      <td>NaN</td>\n",
       "      <td>False</td>\n",
       "      <td>False</td>\n",
       "      <td>True</td>\n",
       "      <td>0</td>\n",
       "      <td>2018-02-14T16:14:06.357837Z</td>\n",
       "      <td>None</td>\n",
       "      <td>The Sydney Morning Herald</td>\n",
       "      <td>the-sydney-morning-herald</td>\n",
       "    </tr>\n",
       "    <tr>\n",
       "      <th>129</th>\n",
       "      <td>2016-11-22T18:37:39.646044Z</td>\n",
       "      <td>https://securethe.news/api/v1/sites/xinhuanet....</td>\n",
       "      <td>xinhuanet.com</td>\n",
       "      <td>False</td>\n",
       "      <td>False</td>\n",
       "      <td>F</td>\n",
       "      <td>False</td>\n",
       "      <td>None</td>\n",
       "      <td>NaN</td>\n",
       "      <td>False</td>\n",
       "      <td>False</td>\n",
       "      <td>True</td>\n",
       "      <td>0</td>\n",
       "      <td>2018-02-14T16:16:03.536426Z</td>\n",
       "      <td>False</td>\n",
       "      <td>Xinhua News Agency</td>\n",
       "      <td>xinhua-news-agency</td>\n",
       "    </tr>\n",
       "  </tbody>\n",
       "</table>\n",
       "</div>"
      ],
      "text/plain": [
       "                           added  \\\n",
       "0    2016-11-22T18:37:39.934408Z   \n",
       "4    2016-11-22T18:37:39.737176Z   \n",
       "5    2016-11-22T18:37:39.489349Z   \n",
       "13   2016-11-23T19:38:34.685643Z   \n",
       "26   2016-11-22T18:37:39.661192Z   \n",
       "28   2017-02-13T22:36:12.115769Z   \n",
       "29   2016-11-22T18:37:39.453447Z   \n",
       "30   2016-11-23T19:38:03.360489Z   \n",
       "35   2016-11-22T18:37:39.684339Z   \n",
       "43   2016-11-22T18:37:39.623572Z   \n",
       "45   2016-11-22T18:37:39.496586Z   \n",
       "51   2016-11-22T18:37:39.554709Z   \n",
       "56   2016-11-22T18:37:39.881722Z   \n",
       "57   2016-11-22T18:37:39.866748Z   \n",
       "61   2016-11-22T18:37:39.353625Z   \n",
       "64   2016-11-22T18:37:39.547393Z   \n",
       "69   2016-11-22T18:37:39.357075Z   \n",
       "75   2016-11-22T18:37:39.926754Z   \n",
       "77   2016-11-22T18:37:39.532958Z   \n",
       "85   2016-11-22T18:37:39.744992Z   \n",
       "91   2016-11-22T18:37:39.919003Z   \n",
       "101  2016-11-22T18:37:39.874153Z   \n",
       "102  2016-11-22T18:37:39.432308Z   \n",
       "111  2016-11-22T18:37:39.904713Z   \n",
       "129  2016-11-22T18:37:39.646044Z   \n",
       "\n",
       "                                             all_scans             domain  \\\n",
       "0    https://securethe.news/api/v1/sites/abc.es/scans/             abc.es   \n",
       "4    https://securethe.news/api/v1/sites/anandabaza...    anandabazar.com   \n",
       "5    https://securethe.news/api/v1/sites/andhrajyot...   andhrajyothy.com   \n",
       "13   https://securethe.news/api/v1/sites/breitbart....      breitbart.com   \n",
       "26   https://securethe.news/api/v1/sites/corriere.i...        corriere.it   \n",
       "28   https://securethe.news/api/v1/sites/zeit.de/sc...            zeit.de   \n",
       "29   https://securethe.news/api/v1/sites/dnaindia.c...       dnaindia.com   \n",
       "30   https://securethe.news/api/v1/sites/drudgerepo...   drudgereport.com   \n",
       "35   https://securethe.news/api/v1/sites/euronews.c...       euronews.com   \n",
       "43   https://securethe.news/api/v1/sites/france24.c...       france24.com   \n",
       "45   https://securethe.news/api/v1/sites/globaltime...     globaltimes.cn   \n",
       "51   https://securethe.news/api/v1/sites/ilsole24or...    ilsole24ore.com   \n",
       "56   https://securethe.news/api/v1/sites/lastampa.i...        lastampa.it   \n",
       "57   https://securethe.news/api/v1/sites/lavanguard...   lavanguardia.com   \n",
       "61   https://securethe.news/api/v1/sites/dailymail....    dailymail.co.uk   \n",
       "64   https://securethe.news/api/v1/sites/mathrubhum...    mathrubhumi.com   \n",
       "69   https://securethe.news/api/v1/sites/newsweek.c...       newsweek.com   \n",
       "75   https://securethe.news/api/v1/sites/people.cn/...          people.cn   \n",
       "77   https://securethe.news/api/v1/sites/pravdarepo...   pravdareport.com   \n",
       "85   https://securethe.news/api/v1/sites/shanghaida...  shanghaidaily.com   \n",
       "91   https://securethe.news/api/v1/sites/sw.com/scans/             sw.com   \n",
       "101  https://securethe.news/api/v1/sites/thehill.co...        thehill.com   \n",
       "102  https://securethe.news/api/v1/sites/thehindu.c...       thehindu.com   \n",
       "111  https://securethe.news/api/v1/sites/smh.com.au...         smh.com.au   \n",
       "129  https://securethe.news/api/v1/sites/xinhuanet....      xinhuanet.com   \n",
       "\n",
       "     latest_scan.defaults_to_https  latest_scan.downgrades_https  \\\n",
       "0                            False                         False   \n",
       "4                            False                          True   \n",
       "5                            False                         False   \n",
       "13                           False                         False   \n",
       "26                           False                         False   \n",
       "28                           False                         False   \n",
       "29                           False                         False   \n",
       "30                           False                         False   \n",
       "35                           False                         False   \n",
       "43                           False                         False   \n",
       "45                           False                         False   \n",
       "51                           False                         False   \n",
       "56                           False                         False   \n",
       "57                           False                         False   \n",
       "61                           False                         False   \n",
       "64                           False                         False   \n",
       "69                           False                         False   \n",
       "75                           False                         False   \n",
       "77                           False                         False   \n",
       "85                           False                         False   \n",
       "91                           False                         False   \n",
       "101                          False                         False   \n",
       "102                          False                         False   \n",
       "111                          False                         False   \n",
       "129                          False                         False   \n",
       "\n",
       "    latest_scan.grade  latest_scan.hsts latest_scan.hsts_entire_domain  \\\n",
       "0                   F             False                           None   \n",
       "4                   F             False                           None   \n",
       "5                   F             False                           None   \n",
       "13                  F             False                           None   \n",
       "26                  F             False                           None   \n",
       "28                  F             False                           None   \n",
       "29                  F             False                           None   \n",
       "30                  F             False                           None   \n",
       "35                  F             False                           None   \n",
       "43                  F             False                           None   \n",
       "45                  F             False                           None   \n",
       "51                  F             False                           None   \n",
       "56                  F             False                           None   \n",
       "57                  F             False                           None   \n",
       "61                  F             False                           None   \n",
       "64                  F             False                           None   \n",
       "69                  F             False                           None   \n",
       "75                  F             False                           None   \n",
       "77                  F             False                           None   \n",
       "85                  F             False                           None   \n",
       "91                  F             False                           None   \n",
       "101                 F             False                           None   \n",
       "102                 F             False                           None   \n",
       "111                 F             False                           None   \n",
       "129                 F             False                           None   \n",
       "\n",
       "     latest_scan.hsts_max_age latest_scan.hsts_preload_ready  \\\n",
       "0                         NaN                          False   \n",
       "4                         NaN                          False   \n",
       "5                         NaN                          False   \n",
       "13                        NaN                          False   \n",
       "26                        NaN                          False   \n",
       "28                        NaN                          False   \n",
       "29                        NaN                          False   \n",
       "30                        NaN                          False   \n",
       "35                        NaN                          False   \n",
       "43                        NaN                          False   \n",
       "45                        NaN                          False   \n",
       "51                        NaN                          False   \n",
       "56                        NaN                          False   \n",
       "57                        NaN                          False   \n",
       "61                        NaN                          False   \n",
       "64                        NaN                          False   \n",
       "69                        NaN                          False   \n",
       "75                        NaN                          False   \n",
       "77                        NaN                          False   \n",
       "85                        NaN                          False   \n",
       "91                        NaN                          False   \n",
       "101                       NaN                          False   \n",
       "102                       NaN                          False   \n",
       "111                       NaN                          False   \n",
       "129                       NaN                          False   \n",
       "\n",
       "     latest_scan.hsts_preloaded  latest_scan.live  latest_scan.score  \\\n",
       "0                         False              True                  0   \n",
       "4                         False              True                  0   \n",
       "5                         False              True                  0   \n",
       "13                        False              True                  0   \n",
       "26                        False              True                  0   \n",
       "28                        False              True                  0   \n",
       "29                        False              True                  0   \n",
       "30                        False              True                  0   \n",
       "35                        False              True                  0   \n",
       "43                        False              True                  0   \n",
       "45                        False              True                  0   \n",
       "51                        False              True                  0   \n",
       "56                        False              True                  0   \n",
       "57                        False              True                  0   \n",
       "61                        False              True                  0   \n",
       "64                        False              True                  0   \n",
       "69                        False              True                  0   \n",
       "75                        False              True                  0   \n",
       "77                        False              True                  0   \n",
       "85                        False              True                  0   \n",
       "91                        False              True                  0   \n",
       "101                       False              True                  0   \n",
       "102                       False              True                  0   \n",
       "111                       False              True                  0   \n",
       "129                       False              True                  0   \n",
       "\n",
       "           latest_scan.timestamp latest_scan.valid_https  \\\n",
       "0    2018-02-14T16:00:17.239407Z                    None   \n",
       "4    2018-02-14T16:00:41.173307Z                    None   \n",
       "5    2018-02-14T16:00:49.559633Z                   False   \n",
       "13   2018-02-14T16:01:33.339684Z                    None   \n",
       "26   2018-02-14T16:03:00.381916Z                    None   \n",
       "28   2018-02-14T16:03:17.996403Z                   False   \n",
       "29   2018-02-14T16:03:29.051712Z                    None   \n",
       "30   2018-02-14T16:03:32.930440Z                   False   \n",
       "35   2018-02-14T16:04:37.338348Z                   False   \n",
       "43   2018-02-14T16:05:22.024144Z                    None   \n",
       "45   2018-02-14T16:05:36.948601Z                    None   \n",
       "51   2018-02-14T16:06:39.614718Z                    None   \n",
       "56   2018-02-14T16:07:21.349467Z                    None   \n",
       "57   2018-02-14T16:07:36.164372Z                   False   \n",
       "61   2018-02-14T16:08:08.048157Z                    None   \n",
       "64   2018-02-14T16:08:28.722659Z                    None   \n",
       "69   2018-02-14T16:09:05.675408Z                   False   \n",
       "75   2018-02-14T16:10:05.081396Z                   False   \n",
       "77   2018-02-14T16:10:28.253993Z                   False   \n",
       "85   2018-02-14T16:11:28.043614Z                   False   \n",
       "91   2018-02-14T16:12:10.336909Z                    None   \n",
       "101  2018-02-14T16:12:59.522087Z                    None   \n",
       "102  2018-02-14T16:13:15.291035Z                   False   \n",
       "111  2018-02-14T16:14:06.357837Z                    None   \n",
       "129  2018-02-14T16:16:03.536426Z                   False   \n",
       "\n",
       "                          name                       slug  \n",
       "0                       ABC.es                      abces  \n",
       "4                  Anandabazar                anandabazar  \n",
       "5                 Andhrajyothi               andhrajyothi  \n",
       "13                   Breitbart                  breitbart  \n",
       "26         Corriere della Sera        corriere-della-sera  \n",
       "28                    Die ZEIT                   die-zeit  \n",
       "29                   DNA India                  dna-india  \n",
       "30               Drudge Report              drudge-report  \n",
       "35                    Euronews                   euronews  \n",
       "43                   France 24                  france-24  \n",
       "45                Global Times               global-times  \n",
       "51              Il Sole 24 Ore             il-sole-24-ore  \n",
       "56                   La Stampa                  la-stampa  \n",
       "57               La Vanguardia              la-vanguardia  \n",
       "61                 Mail Online                mail-online  \n",
       "64                 Mathrubhumi                mathrubhumi  \n",
       "69                    Newsweek                   newsweek  \n",
       "75              People's Daily              peoples-daily  \n",
       "77               Pravda Report              pravda-report  \n",
       "85              Shanghai Daily             shanghai-daily  \n",
       "91                      sw.com                      swcom  \n",
       "101                   The Hill                   the-hill  \n",
       "102                  The Hindu                  the-hindu  \n",
       "111  The Sydney Morning Herald  the-sydney-morning-herald  \n",
       "129         Xinhua News Agency         xinhua-news-agency  "
      ]
     },
     "execution_count": 34,
     "metadata": {},
     "output_type": "execute_result"
    }
   ],
   "source": [
    "results_df[results_df[\"latest_scan.score\"] < 20]"
   ]
  },
  {
   "cell_type": "markdown",
   "metadata": {
    "slideshow": {
     "slide_type": "slide"
    }
   },
   "source": [
    "# Compare percentage of news orgs that do and do not enable HTTPS by default"
   ]
  },
  {
   "cell_type": "code",
   "execution_count": 35,
   "metadata": {
    "slideshow": {
     "slide_type": "fragment"
    }
   },
   "outputs": [],
   "source": [
    "https_default = pd.DataFrame(results_df['latest_scan.defaults_to_https'].value_counts())"
   ]
  },
  {
   "cell_type": "code",
   "execution_count": 36,
   "metadata": {
    "slideshow": {
     "slide_type": "fragment"
    }
   },
   "outputs": [
    {
     "data": {
      "text/html": [
       "<div>\n",
       "<style scoped>\n",
       "    .dataframe tbody tr th:only-of-type {\n",
       "        vertical-align: middle;\n",
       "    }\n",
       "\n",
       "    .dataframe tbody tr th {\n",
       "        vertical-align: top;\n",
       "    }\n",
       "\n",
       "    .dataframe thead th {\n",
       "        text-align: right;\n",
       "    }\n",
       "</style>\n",
       "<table border=\"1\" class=\"dataframe\">\n",
       "  <thead>\n",
       "    <tr style=\"text-align: right;\">\n",
       "      <th></th>\n",
       "      <th>latest_scan.defaults_to_https</th>\n",
       "    </tr>\n",
       "  </thead>\n",
       "  <tbody>\n",
       "    <tr>\n",
       "      <th>True</th>\n",
       "      <td>75</td>\n",
       "    </tr>\n",
       "    <tr>\n",
       "      <th>False</th>\n",
       "      <td>56</td>\n",
       "    </tr>\n",
       "  </tbody>\n",
       "</table>\n",
       "</div>"
      ],
      "text/plain": [
       "       latest_scan.defaults_to_https\n",
       "True                              75\n",
       "False                             56"
      ]
     },
     "execution_count": 36,
     "metadata": {},
     "output_type": "execute_result"
    }
   ],
   "source": [
    "https_default"
   ]
  },
  {
   "cell_type": "markdown",
   "metadata": {
    "slideshow": {
     "slide_type": "fragment"
    }
   },
   "source": [
    "Convert these absolute numbers to percentages:"
   ]
  },
  {
   "cell_type": "code",
   "execution_count": 37,
   "metadata": {
    "slideshow": {
     "slide_type": "fragment"
    }
   },
   "outputs": [],
   "source": [
    "https_default['value percentage'] = https_default['latest_scan.defaults_to_https'] / https_default['latest_scan.defaults_to_https'].sum() * 100."
   ]
  },
  {
   "cell_type": "code",
   "execution_count": 38,
   "metadata": {
    "slideshow": {
     "slide_type": "fragment"
    }
   },
   "outputs": [
    {
     "data": {
      "text/plain": [
       "True     57.251908\n",
       "False    42.748092\n",
       "Name: value percentage, dtype: float64"
      ]
     },
     "execution_count": 38,
     "metadata": {},
     "output_type": "execute_result"
    }
   ],
   "source": [
    "https_default['value percentage']"
   ]
  },
  {
   "cell_type": "code",
   "execution_count": 39,
   "metadata": {
    "scrolled": true,
    "slideshow": {
     "slide_type": "slide"
    }
   },
   "outputs": [
    {
     "data": {
      "text/plain": [
       "<matplotlib.axes._subplots.AxesSubplot at 0x109192be0>"
      ]
     },
     "execution_count": 39,
     "metadata": {},
     "output_type": "execute_result"
    },
    {
     "data": {
      "image/png": "[encoded data removed]",
      "text/plain": [
       "<matplotlib.figure.Figure at 0x10917bda0>"
      ]
     },
     "metadata": {},
     "output_type": "display_data"
    }
   ],
   "source": [
    "https_default['value percentage'].plot(kind='pie', title='News Sites that Default to HTTPS', colors=['g','r'], figsize=(7, 7))"
   ]
  },
  {
   "cell_type": "markdown",
   "metadata": {
    "slideshow": {
     "slide_type": "slide"
    }
   },
   "source": [
    "# Group by operations\n",
    "\n",
    "Group by enables one to collapse the result set along a column using a specified aggregation function"
   ]
  },
  {
   "cell_type": "code",
   "execution_count": 40,
   "metadata": {
    "slideshow": {
     "slide_type": "fragment"
    }
   },
   "outputs": [
    {
     "data": {
      "text/html": [
       "<div>\n",
       "<style scoped>\n",
       "    .dataframe tbody tr th:only-of-type {\n",
       "        vertical-align: middle;\n",
       "    }\n",
       "\n",
       "    .dataframe tbody tr th {\n",
       "        vertical-align: top;\n",
       "    }\n",
       "\n",
       "    .dataframe thead th {\n",
       "        text-align: right;\n",
       "    }\n",
       "</style>\n",
       "<table border=\"1\" class=\"dataframe\">\n",
       "  <thead>\n",
       "    <tr style=\"text-align: right;\">\n",
       "      <th></th>\n",
       "      <th>latest_scan.defaults_to_https</th>\n",
       "      <th>latest_scan.downgrades_https</th>\n",
       "      <th>latest_scan.hsts</th>\n",
       "      <th>latest_scan.hsts_max_age</th>\n",
       "      <th>latest_scan.hsts_preloaded</th>\n",
       "      <th>latest_scan.live</th>\n",
       "      <th>latest_scan.score</th>\n",
       "    </tr>\n",
       "    <tr>\n",
       "      <th>latest_scan.grade</th>\n",
       "      <th></th>\n",
       "      <th></th>\n",
       "      <th></th>\n",
       "      <th></th>\n",
       "      <th></th>\n",
       "      <th></th>\n",
       "      <th></th>\n",
       "    </tr>\n",
       "  </thead>\n",
       "  <tbody>\n",
       "    <tr>\n",
       "      <th>A</th>\n",
       "      <td>1.0</td>\n",
       "      <td>0.00</td>\n",
       "      <td>1.000000</td>\n",
       "      <td>31536000.0</td>\n",
       "      <td>0.0</td>\n",
       "      <td>1.0</td>\n",
       "      <td>95</td>\n",
       "    </tr>\n",
       "    <tr>\n",
       "      <th>A+</th>\n",
       "      <td>1.0</td>\n",
       "      <td>0.00</td>\n",
       "      <td>1.000000</td>\n",
       "      <td>33453000.0</td>\n",
       "      <td>1.0</td>\n",
       "      <td>1.0</td>\n",
       "      <td>100</td>\n",
       "    </tr>\n",
       "    <tr>\n",
       "      <th>A-</th>\n",
       "      <td>1.0</td>\n",
       "      <td>0.00</td>\n",
       "      <td>0.928571</td>\n",
       "      <td>25536700.0</td>\n",
       "      <td>0.0</td>\n",
       "      <td>1.0</td>\n",
       "      <td>80</td>\n",
       "    </tr>\n",
       "    <tr>\n",
       "      <th>B</th>\n",
       "      <td>1.0</td>\n",
       "      <td>0.00</td>\n",
       "      <td>0.000000</td>\n",
       "      <td>0.0</td>\n",
       "      <td>0.0</td>\n",
       "      <td>1.0</td>\n",
       "      <td>70</td>\n",
       "    </tr>\n",
       "    <tr>\n",
       "      <th>B+</th>\n",
       "      <td>1.0</td>\n",
       "      <td>0.00</td>\n",
       "      <td>1.000000</td>\n",
       "      <td>1159310.0</td>\n",
       "      <td>0.0</td>\n",
       "      <td>1.0</td>\n",
       "      <td>75</td>\n",
       "    </tr>\n",
       "    <tr>\n",
       "      <th>C</th>\n",
       "      <td>0.0</td>\n",
       "      <td>0.00</td>\n",
       "      <td>0.071429</td>\n",
       "      <td>31536000.0</td>\n",
       "      <td>0.0</td>\n",
       "      <td>1.0</td>\n",
       "      <td>50</td>\n",
       "    </tr>\n",
       "    <tr>\n",
       "      <th>D</th>\n",
       "      <td>0.0</td>\n",
       "      <td>1.00</td>\n",
       "      <td>0.000000</td>\n",
       "      <td>NaN</td>\n",
       "      <td>0.0</td>\n",
       "      <td>1.0</td>\n",
       "      <td>30</td>\n",
       "    </tr>\n",
       "    <tr>\n",
       "      <th>F</th>\n",
       "      <td>0.0</td>\n",
       "      <td>0.04</td>\n",
       "      <td>0.000000</td>\n",
       "      <td>NaN</td>\n",
       "      <td>0.0</td>\n",
       "      <td>1.0</td>\n",
       "      <td>0</td>\n",
       "    </tr>\n",
       "  </tbody>\n",
       "</table>\n",
       "</div>"
      ],
      "text/plain": [
       "                   latest_scan.defaults_to_https  \\\n",
       "latest_scan.grade                                  \n",
       "A                                            1.0   \n",
       "A+                                           1.0   \n",
       "A-                                           1.0   \n",
       "B                                            1.0   \n",
       "B+                                           1.0   \n",
       "C                                            0.0   \n",
       "D                                            0.0   \n",
       "F                                            0.0   \n",
       "\n",
       "                   latest_scan.downgrades_https  latest_scan.hsts  \\\n",
       "latest_scan.grade                                                   \n",
       "A                                          0.00          1.000000   \n",
       "A+                                         0.00          1.000000   \n",
       "A-                                         0.00          0.928571   \n",
       "B                                          0.00          0.000000   \n",
       "B+                                         0.00          1.000000   \n",
       "C                                          0.00          0.071429   \n",
       "D                                          1.00          0.000000   \n",
       "F                                          0.04          0.000000   \n",
       "\n",
       "                   latest_scan.hsts_max_age  latest_scan.hsts_preloaded  \\\n",
       "latest_scan.grade                                                         \n",
       "A                                31536000.0                         0.0   \n",
       "A+                               33453000.0                         1.0   \n",
       "A-                               25536700.0                         0.0   \n",
       "B                                       0.0                         0.0   \n",
       "B+                                1159310.0                         0.0   \n",
       "C                                31536000.0                         0.0   \n",
       "D                                       NaN                         0.0   \n",
       "F                                       NaN                         0.0   \n",
       "\n",
       "                   latest_scan.live  latest_scan.score  \n",
       "latest_scan.grade                                       \n",
       "A                               1.0                 95  \n",
       "A+                              1.0                100  \n",
       "A-                              1.0                 80  \n",
       "B                               1.0                 70  \n",
       "B+                              1.0                 75  \n",
       "C                               1.0                 50  \n",
       "D                               1.0                 30  \n",
       "F                               1.0                  0  "
      ]
     },
     "execution_count": 40,
     "metadata": {},
     "output_type": "execute_result"
    }
   ],
   "source": [
    "results_df.groupby('latest_scan.grade').aggregate('mean')"
   ]
  },
  {
   "cell_type": "markdown",
   "metadata": {
    "slideshow": {
     "slide_type": "slide"
    }
   },
   "source": [
    "# Manipulating timeseries"
   ]
  },
  {
   "cell_type": "code",
   "execution_count": 41,
   "metadata": {
    "slideshow": {
     "slide_type": "subslide"
    }
   },
   "outputs": [
    {
     "data": {
      "text/html": [
       "<div>\n",
       "<style scoped>\n",
       "    .dataframe tbody tr th:only-of-type {\n",
       "        vertical-align: middle;\n",
       "    }\n",
       "\n",
       "    .dataframe tbody tr th {\n",
       "        vertical-align: top;\n",
       "    }\n",
       "\n",
       "    .dataframe thead th {\n",
       "        text-align: right;\n",
       "    }\n",
       "</style>\n",
       "<table border=\"1\" class=\"dataframe\">\n",
       "  <thead>\n",
       "    <tr style=\"text-align: right;\">\n",
       "      <th></th>\n",
       "      <th>added</th>\n",
       "      <th>all_scans</th>\n",
       "      <th>domain</th>\n",
       "      <th>latest_scan.defaults_to_https</th>\n",
       "      <th>latest_scan.downgrades_https</th>\n",
       "      <th>latest_scan.grade</th>\n",
       "      <th>latest_scan.hsts</th>\n",
       "      <th>latest_scan.hsts_entire_domain</th>\n",
       "      <th>latest_scan.hsts_max_age</th>\n",
       "      <th>latest_scan.hsts_preload_ready</th>\n",
       "      <th>latest_scan.hsts_preloaded</th>\n",
       "      <th>latest_scan.live</th>\n",
       "      <th>latest_scan.score</th>\n",
       "      <th>latest_scan.timestamp</th>\n",
       "      <th>latest_scan.valid_https</th>\n",
       "      <th>name</th>\n",
       "      <th>slug</th>\n",
       "    </tr>\n",
       "  </thead>\n",
       "  <tbody>\n",
       "    <tr>\n",
       "      <th>0</th>\n",
       "      <td>2016-11-22T18:37:39.934408Z</td>\n",
       "      <td>https://securethe.news/api/v1/sites/abc.es/scans/</td>\n",
       "      <td>abc.es</td>\n",
       "      <td>False</td>\n",
       "      <td>False</td>\n",
       "      <td>F</td>\n",
       "      <td>False</td>\n",
       "      <td>None</td>\n",
       "      <td>NaN</td>\n",
       "      <td>False</td>\n",
       "      <td>False</td>\n",
       "      <td>True</td>\n",
       "      <td>0</td>\n",
       "      <td>2018-02-14T16:00:17.239407Z</td>\n",
       "      <td>None</td>\n",
       "      <td>ABC.es</td>\n",
       "      <td>abces</td>\n",
       "    </tr>\n",
       "    <tr>\n",
       "      <th>1</th>\n",
       "      <td>2016-11-22T18:37:39.371341Z</td>\n",
       "      <td>https://securethe.news/api/v1/sites/abcnews.go...</td>\n",
       "      <td>abcnews.go.com</td>\n",
       "      <td>False</td>\n",
       "      <td>False</td>\n",
       "      <td>C</td>\n",
       "      <td>False</td>\n",
       "      <td>None</td>\n",
       "      <td>NaN</td>\n",
       "      <td>False</td>\n",
       "      <td>False</td>\n",
       "      <td>True</td>\n",
       "      <td>50</td>\n",
       "      <td>2018-02-14T16:00:21.580017Z</td>\n",
       "      <td>True</td>\n",
       "      <td>ABC News</td>\n",
       "      <td>abc-news</td>\n",
       "    </tr>\n",
       "    <tr>\n",
       "      <th>2</th>\n",
       "      <td>2016-11-22T18:37:39.941184Z</td>\n",
       "      <td>https://securethe.news/api/v1/sites/alarabiya....</td>\n",
       "      <td>alarabiya.net</td>\n",
       "      <td>False</td>\n",
       "      <td>False</td>\n",
       "      <td>C</td>\n",
       "      <td>False</td>\n",
       "      <td>None</td>\n",
       "      <td>NaN</td>\n",
       "      <td>False</td>\n",
       "      <td>False</td>\n",
       "      <td>True</td>\n",
       "      <td>50</td>\n",
       "      <td>2018-02-14T16:00:30.779359Z</td>\n",
       "      <td>True</td>\n",
       "      <td>Al Arabiya</td>\n",
       "      <td>al-arabiya</td>\n",
       "    </tr>\n",
       "    <tr>\n",
       "      <th>3</th>\n",
       "      <td>2016-11-22T18:37:39.413905Z</td>\n",
       "      <td>https://securethe.news/api/v1/sites/aljazeera....</td>\n",
       "      <td>aljazeera.com</td>\n",
       "      <td>False</td>\n",
       "      <td>False</td>\n",
       "      <td>C</td>\n",
       "      <td>False</td>\n",
       "      <td>None</td>\n",
       "      <td>NaN</td>\n",
       "      <td>False</td>\n",
       "      <td>False</td>\n",
       "      <td>True</td>\n",
       "      <td>50</td>\n",
       "      <td>2018-02-14T16:00:35.604345Z</td>\n",
       "      <td>True</td>\n",
       "      <td>Al Jazeera</td>\n",
       "      <td>al-jazeera</td>\n",
       "    </tr>\n",
       "    <tr>\n",
       "      <th>4</th>\n",
       "      <td>2016-11-22T18:37:39.737176Z</td>\n",
       "      <td>https://securethe.news/api/v1/sites/anandabaza...</td>\n",
       "      <td>anandabazar.com</td>\n",
       "      <td>False</td>\n",
       "      <td>True</td>\n",
       "      <td>F</td>\n",
       "      <td>False</td>\n",
       "      <td>None</td>\n",
       "      <td>NaN</td>\n",
       "      <td>False</td>\n",
       "      <td>False</td>\n",
       "      <td>True</td>\n",
       "      <td>0</td>\n",
       "      <td>2018-02-14T16:00:41.173307Z</td>\n",
       "      <td>None</td>\n",
       "      <td>Anandabazar</td>\n",
       "      <td>anandabazar</td>\n",
       "    </tr>\n",
       "  </tbody>\n",
       "</table>\n",
       "</div>"
      ],
      "text/plain": [
       "                         added  \\\n",
       "0  2016-11-22T18:37:39.934408Z   \n",
       "1  2016-11-22T18:37:39.371341Z   \n",
       "2  2016-11-22T18:37:39.941184Z   \n",
       "3  2016-11-22T18:37:39.413905Z   \n",
       "4  2016-11-22T18:37:39.737176Z   \n",
       "\n",
       "                                           all_scans           domain  \\\n",
       "0  https://securethe.news/api/v1/sites/abc.es/scans/           abc.es   \n",
       "1  https://securethe.news/api/v1/sites/abcnews.go...   abcnews.go.com   \n",
       "2  https://securethe.news/api/v1/sites/alarabiya....    alarabiya.net   \n",
       "3  https://securethe.news/api/v1/sites/aljazeera....    aljazeera.com   \n",
       "4  https://securethe.news/api/v1/sites/anandabaza...  anandabazar.com   \n",
       "\n",
       "   latest_scan.defaults_to_https  latest_scan.downgrades_https  \\\n",
       "0                          False                         False   \n",
       "1                          False                         False   \n",
       "2                          False                         False   \n",
       "3                          False                         False   \n",
       "4                          False                          True   \n",
       "\n",
       "  latest_scan.grade  latest_scan.hsts latest_scan.hsts_entire_domain  \\\n",
       "0                 F             False                           None   \n",
       "1                 C             False                           None   \n",
       "2                 C             False                           None   \n",
       "3                 C             False                           None   \n",
       "4                 F             False                           None   \n",
       "\n",
       "   latest_scan.hsts_max_age latest_scan.hsts_preload_ready  \\\n",
       "0                       NaN                          False   \n",
       "1                       NaN                          False   \n",
       "2                       NaN                          False   \n",
       "3                       NaN                          False   \n",
       "4                       NaN                          False   \n",
       "\n",
       "   latest_scan.hsts_preloaded  latest_scan.live  latest_scan.score  \\\n",
       "0                       False              True                  0   \n",
       "1                       False              True                 50   \n",
       "2                       False              True                 50   \n",
       "3                       False              True                 50   \n",
       "4                       False              True                  0   \n",
       "\n",
       "         latest_scan.timestamp latest_scan.valid_https         name  \\\n",
       "0  2018-02-14T16:00:17.239407Z                    None       ABC.es   \n",
       "1  2018-02-14T16:00:21.580017Z                    True     ABC News   \n",
       "2  2018-02-14T16:00:30.779359Z                    True   Al Arabiya   \n",
       "3  2018-02-14T16:00:35.604345Z                    True   Al Jazeera   \n",
       "4  2018-02-14T16:00:41.173307Z                    None  Anandabazar   \n",
       "\n",
       "          slug  \n",
       "0        abces  \n",
       "1     abc-news  \n",
       "2   al-arabiya  \n",
       "3   al-jazeera  \n",
       "4  anandabazar  "
      ]
     },
     "execution_count": 41,
     "metadata": {},
     "output_type": "execute_result"
    }
   ],
   "source": [
    "results_df.head()"
   ]
  },
  {
   "cell_type": "code",
   "execution_count": 42,
   "metadata": {
    "slideshow": {
     "slide_type": "subslide"
    }
   },
   "outputs": [
    {
     "data": {
      "text/plain": [
       "0    2016-11-22T18:37:39.934408Z\n",
       "1    2016-11-22T18:37:39.371341Z\n",
       "2    2016-11-22T18:37:39.941184Z\n",
       "3    2016-11-22T18:37:39.413905Z\n",
       "4    2016-11-22T18:37:39.737176Z\n",
       "Name: added, dtype: object"
      ]
     },
     "execution_count": 42,
     "metadata": {},
     "output_type": "execute_result"
    }
   ],
   "source": [
    "results_df['added'].head()"
   ]
  },
  {
   "cell_type": "markdown",
   "metadata": {
    "slideshow": {
     "slide_type": "slide"
    }
   },
   "source": [
    "## Convert column type to datetime object"
   ]
  },
  {
   "cell_type": "code",
   "execution_count": 43,
   "metadata": {
    "slideshow": {
     "slide_type": "fragment"
    }
   },
   "outputs": [],
   "source": [
    "results_df['added'] = pd.to_datetime(results_df['added'])"
   ]
  },
  {
   "cell_type": "code",
   "execution_count": 44,
   "metadata": {
    "slideshow": {
     "slide_type": "fragment"
    }
   },
   "outputs": [
    {
     "data": {
      "text/plain": [
       "0   2016-11-22 18:37:39.934408\n",
       "1   2016-11-22 18:37:39.371341\n",
       "2   2016-11-22 18:37:39.941184\n",
       "3   2016-11-22 18:37:39.413905\n",
       "4   2016-11-22 18:37:39.737176\n",
       "Name: added, dtype: datetime64[ns]"
      ]
     },
     "execution_count": 44,
     "metadata": {},
     "output_type": "execute_result"
    }
   ],
   "source": [
    "results_df['added'].head()"
   ]
  },
  {
   "cell_type": "markdown",
   "metadata": {
    "slideshow": {
     "slide_type": "slide"
    }
   },
   "source": [
    "## News sites added since Jan, 1 2017"
   ]
  },
  {
   "cell_type": "code",
   "execution_count": 45,
   "metadata": {
    "slideshow": {
     "slide_type": "fragment"
    }
   },
   "outputs": [],
   "source": [
    "is_since_jan_1_2017 = results_df['added'] > np.datetime64('2017-01-01')"
   ]
  },
  {
   "cell_type": "code",
   "execution_count": 46,
   "metadata": {
    "slideshow": {
     "slide_type": "fragment"
    }
   },
   "outputs": [
    {
     "data": {
      "text/plain": [
       "pandas.core.series.Series"
      ]
     },
     "execution_count": 46,
     "metadata": {},
     "output_type": "execute_result"
    }
   ],
   "source": [
    "type(is_since_jan_1_2017)"
   ]
  },
  {
   "cell_type": "code",
   "execution_count": 47,
   "metadata": {
    "slideshow": {
     "slide_type": "fragment"
    }
   },
   "outputs": [
    {
     "data": {
      "text/plain": [
       "8                axios.com\n",
       "10                 bild.de\n",
       "20                 chip.de\n",
       "22                cnet.com\n",
       "24         computerbase.de\n",
       "25         computerbild.de\n",
       "28                 zeit.de\n",
       "38     fivethirtyeight.com\n",
       "39                focus.de\n",
       "46                golem.de\n",
       "47                heise.de\n",
       "49          hongkongfp.com\n",
       "54        oglobo.globo.com\n",
       "59              letemps.ch\n",
       "68                  nzz.ch\n",
       "72                  nrk.no\n",
       "83               scroll.in\n",
       "89                stern.de\n",
       "92                  taz.de\n",
       "110         theoutline.com\n",
       "114      theundefeated.com\n",
       "Name: domain, dtype: object"
      ]
     },
     "execution_count": 47,
     "metadata": {},
     "output_type": "execute_result"
    }
   ],
   "source": [
    "results_df[is_since_jan_1_2017]['domain']"
   ]
  },
  {
   "cell_type": "markdown",
   "metadata": {
    "slideshow": {
     "slide_type": "slide"
    }
   },
   "source": [
    "# Groupby timeseries data"
   ]
  },
  {
   "cell_type": "code",
   "execution_count": 48,
   "metadata": {
    "slideshow": {
     "slide_type": "fragment"
    }
   },
   "outputs": [
    {
     "data": {
      "text/html": [
       "<div>\n",
       "<style scoped>\n",
       "    .dataframe tbody tr th:only-of-type {\n",
       "        vertical-align: middle;\n",
       "    }\n",
       "\n",
       "    .dataframe tbody tr th {\n",
       "        vertical-align: top;\n",
       "    }\n",
       "\n",
       "    .dataframe thead th {\n",
       "        text-align: right;\n",
       "    }\n",
       "</style>\n",
       "<table border=\"1\" class=\"dataframe\">\n",
       "  <thead>\n",
       "    <tr style=\"text-align: right;\">\n",
       "      <th></th>\n",
       "      <th>latest_scan.defaults_to_https</th>\n",
       "      <th>latest_scan.downgrades_https</th>\n",
       "      <th>latest_scan.hsts</th>\n",
       "      <th>latest_scan.hsts_max_age</th>\n",
       "      <th>latest_scan.hsts_preloaded</th>\n",
       "      <th>latest_scan.live</th>\n",
       "      <th>latest_scan.score</th>\n",
       "    </tr>\n",
       "    <tr>\n",
       "      <th>added</th>\n",
       "      <th></th>\n",
       "      <th></th>\n",
       "      <th></th>\n",
       "      <th></th>\n",
       "      <th></th>\n",
       "      <th></th>\n",
       "      <th></th>\n",
       "    </tr>\n",
       "  </thead>\n",
       "  <tbody>\n",
       "    <tr>\n",
       "      <th>2016-12-31</th>\n",
       "      <td>61.0</td>\n",
       "      <td>15.0</td>\n",
       "      <td>29.0</td>\n",
       "      <td>460815720.0</td>\n",
       "      <td>5.0</td>\n",
       "      <td>110.0</td>\n",
       "      <td>5595</td>\n",
       "    </tr>\n",
       "    <tr>\n",
       "      <th>2017-12-31</th>\n",
       "      <td>14.0</td>\n",
       "      <td>3.0</td>\n",
       "      <td>6.0</td>\n",
       "      <td>247305100.0</td>\n",
       "      <td>3.0</td>\n",
       "      <td>21.0</td>\n",
       "      <td>1330</td>\n",
       "    </tr>\n",
       "  </tbody>\n",
       "</table>\n",
       "</div>"
      ],
      "text/plain": [
       "            latest_scan.defaults_to_https  latest_scan.downgrades_https  \\\n",
       "added                                                                     \n",
       "2016-12-31                           61.0                          15.0   \n",
       "2017-12-31                           14.0                           3.0   \n",
       "\n",
       "            latest_scan.hsts  latest_scan.hsts_max_age  \\\n",
       "added                                                    \n",
       "2016-12-31              29.0               460815720.0   \n",
       "2017-12-31               6.0               247305100.0   \n",
       "\n",
       "            latest_scan.hsts_preloaded  latest_scan.live  latest_scan.score  \n",
       "added                                                                        \n",
       "2016-12-31                         5.0             110.0               5595  \n",
       "2017-12-31                         3.0              21.0               1330  "
      ]
     },
     "execution_count": 48,
     "metadata": {},
     "output_type": "execute_result"
    }
   ],
   "source": [
    "results_df.groupby([pd.Grouper(key='added', freq='Y')]).aggregate('sum')"
   ]
  },
  {
   "cell_type": "code",
   "execution_count": 49,
   "metadata": {
    "slideshow": {
     "slide_type": "fragment"
    }
   },
   "outputs": [
    {
     "data": {
      "text/html": [
       "<div>\n",
       "<style scoped>\n",
       "    .dataframe tbody tr th:only-of-type {\n",
       "        vertical-align: middle;\n",
       "    }\n",
       "\n",
       "    .dataframe tbody tr th {\n",
       "        vertical-align: top;\n",
       "    }\n",
       "\n",
       "    .dataframe thead th {\n",
       "        text-align: right;\n",
       "    }\n",
       "</style>\n",
       "<table border=\"1\" class=\"dataframe\">\n",
       "  <thead>\n",
       "    <tr style=\"text-align: right;\">\n",
       "      <th></th>\n",
       "      <th>latest_scan.defaults_to_https</th>\n",
       "      <th>latest_scan.downgrades_https</th>\n",
       "      <th>latest_scan.hsts</th>\n",
       "      <th>latest_scan.hsts_max_age</th>\n",
       "      <th>latest_scan.hsts_preloaded</th>\n",
       "      <th>latest_scan.live</th>\n",
       "      <th>latest_scan.score</th>\n",
       "    </tr>\n",
       "    <tr>\n",
       "      <th>added</th>\n",
       "      <th></th>\n",
       "      <th></th>\n",
       "      <th></th>\n",
       "      <th></th>\n",
       "      <th></th>\n",
       "      <th></th>\n",
       "      <th></th>\n",
       "    </tr>\n",
       "  </thead>\n",
       "  <tbody>\n",
       "    <tr>\n",
       "      <th>2016-12-31</th>\n",
       "      <td>0.554545</td>\n",
       "      <td>0.136364</td>\n",
       "      <td>0.263636</td>\n",
       "      <td>1.486502e+07</td>\n",
       "      <td>0.045455</td>\n",
       "      <td>1.0</td>\n",
       "      <td>50.863636</td>\n",
       "    </tr>\n",
       "    <tr>\n",
       "      <th>2017-12-31</th>\n",
       "      <td>0.666667</td>\n",
       "      <td>0.142857</td>\n",
       "      <td>0.285714</td>\n",
       "      <td>4.121752e+07</td>\n",
       "      <td>0.142857</td>\n",
       "      <td>1.0</td>\n",
       "      <td>63.333333</td>\n",
       "    </tr>\n",
       "  </tbody>\n",
       "</table>\n",
       "</div>"
      ],
      "text/plain": [
       "            latest_scan.defaults_to_https  latest_scan.downgrades_https  \\\n",
       "added                                                                     \n",
       "2016-12-31                       0.554545                      0.136364   \n",
       "2017-12-31                       0.666667                      0.142857   \n",
       "\n",
       "            latest_scan.hsts  latest_scan.hsts_max_age  \\\n",
       "added                                                    \n",
       "2016-12-31          0.263636              1.486502e+07   \n",
       "2017-12-31          0.285714              4.121752e+07   \n",
       "\n",
       "            latest_scan.hsts_preloaded  latest_scan.live  latest_scan.score  \n",
       "added                                                                        \n",
       "2016-12-31                    0.045455               1.0          50.863636  \n",
       "2017-12-31                    0.142857               1.0          63.333333  "
      ]
     },
     "execution_count": 49,
     "metadata": {},
     "output_type": "execute_result"
    }
   ],
   "source": [
    "results_df.groupby([pd.Grouper(key='added', freq='Y')]).aggregate('mean')"
   ]
  },
  {
   "cell_type": "markdown",
   "metadata": {
    "slideshow": {
     "slide_type": "slide"
    }
   },
   "source": [
    "## Possible Next Steps\n",
    "\n",
    "* Filter out less popular news sites using the Alexa Top N:\n",
    "  * Scrape data from https://www.alexa.com/topsites/category/News\n",
    "  * Create `DataFrame` of top N news websites\n",
    "  * Merge with existing `results_df`: you would use an inner `pd.join()` to do so\n",
    "* Use API to get all timeseries data and plot scores for news orgs as a function of time"
   ]
  },
  {
   "cell_type": "markdown",
   "metadata": {
    "slideshow": {
     "slide_type": "slide"
    }
   },
   "source": [
    "## More Resources\n",
    "\n",
    "* [Python Data Science Handbook](https://jakevdp.github.io/PythonDataScienceHandbook/) by Jake VanderPlas\n",
    "* [Python for Data Analysis](http://wesmckinney.com/pages/book.html) by Wes McKinney\n",
    "* The [gallery of interesting IPython notebooks](https://github.com/jupyter/jupyter/wiki/A-gallery-of-interesting-Jupyter-Notebooks)\n",
    "* An introduction to $\\LaTeX$ typesetting: http://www.math.harvard.edu/texman/"
   ]
  }
 ],
 "metadata": {
  "celltoolbar": "Slideshow",
  "kernelspec": {
   "display_name": "Python 3",
   "language": "python",
   "name": "python3"
  },
  "language_info": {
   "codemirror_mode": {
    "name": "ipython",
    "version": 3
   },
   "file_extension": ".py",
   "mimetype": "text/x-python",
   "name": "python",
   "nbconvert_exporter": "python",
   "pygments_lexer": "ipython3",
   "version": "3.6.3"
  }
 },
 "nbformat": 4,
 "nbformat_minor": 2
}
